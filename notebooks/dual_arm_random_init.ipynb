{
 "cells": [
  {
   "cell_type": "markdown",
   "metadata": {},
   "source": [
    "### Importing libraries"
   ]
  },
  {
   "cell_type": "code",
   "execution_count": 1,
   "metadata": {
    "scrolled": true
   },
   "outputs": [],
   "source": [
    "import openravepy\n",
    "import trajoptpy\n",
    "import json\n",
    "import numpy as np\n",
    "import trajoptpy.kin_utils as ku\n",
    "from trajoptpy.check_traj import traj_is_safe\n",
    "import time\n",
    "import random \n",
    "import matplotlib.pyplot as plt\n",
    "import pickle\n",
    "from trajopt_util import *\n",
    "from planning_util import *\n",
    "from regression import *\n",
    "import trajoptpy.math_utils as mu\n",
    "import multiprocessing as mp\n",
    "from multiprocessing import Lock\n",
    "%matplotlib inline\n",
    "%load_ext autoreload\n",
    "%autoreload 2\n",
    "\n",
    "FILENAME = 'data/dual_arm_random_init/'"
   ]
  },
  {
   "cell_type": "markdown",
   "metadata": {},
   "source": [
    "### Setting the trajopt"
   ]
  },
  {
   "cell_type": "code",
   "execution_count": 2,
   "metadata": {},
   "outputs": [
    {
     "data": {
      "text/plain": [
       "True"
      ]
     },
     "execution_count": 2,
     "metadata": {},
     "output_type": "execute_result"
    }
   ],
   "source": [
    "np.set_printoptions(precision=4, suppress=True)\n",
    "\n",
    "env = openravepy.Environment()\n",
    "env.StopSimulation()\n",
    "env.Load(\"robots/pr2-beta-static.zae\")\n",
    "env.Load(\"../env/bookshelves.env.xml\")\n",
    "env.SetDefaultViewer()"
   ]
  },
  {
   "cell_type": "markdown",
   "metadata": {},
   "source": [
    "### Setting the robot"
   ]
  },
  {
   "cell_type": "code",
   "execution_count": 3,
   "metadata": {},
   "outputs": [],
   "source": [
    "def mirror_arm_joints(x):\n",
    "    \"mirror image of joints (r->l or l->r)\"\n",
    "    return [-x[0],x[1],-x[2],x[3],-x[4],x[5],-x[6]]"
   ]
  },
  {
   "cell_type": "code",
   "execution_count": 4,
   "metadata": {},
   "outputs": [],
   "source": [
    "robot = env.GetRobots()[0]\n",
    "left_arm = robot.GetManipulator(\"leftarm\")\n",
    "right_arm = robot.GetManipulator(\"rightarm\")\n",
    "\n",
    "robot.SetActiveDOFs(np.r_[right_arm.GetArmIndices(), left_arm.GetArmIndices()])\n",
    "coeffs = [1,1,1,1,1,1,1,  1,1,1,1,1,1,1,] #coefficients for joint velocity cost\n",
    "\n",
    "dof = len(robot.GetActiveDOFValues())\n",
    "left_dof_away = np.array([ 0.5646,  1.1371, -0.65  , -2.1172,  2.0552, 0.99, -2.168 ])\n",
    "right_dof_away = np.array([ -0.5646,  1.1371, 0.65  , -2.1172,  2.0552, 0.99, -2.168 ])\n",
    "robot.SetDOFValues(left_dof_away, left_arm.GetArmIndices())\n",
    "robot.SetDOFValues(right_dof_away, right_arm.GetArmIndices())\n",
    "init_joint0 = robot.GetActiveDOFValues()"
   ]
  },
  {
   "cell_type": "code",
   "execution_count": 5,
   "metadata": {},
   "outputs": [],
   "source": [
    "left_waypoints = [\n",
    "    [-0.043379, 0.103374, -1.6, -2.27679, 3.02165, -2.03223, -1.6209], #chest fwd\n",
    "    [-0.18199, -0.088593, -1.6, -2.08996, 3.04403, -0.41007, -1.39646],# side fwd\n",
    "    [-0.0428341, -0.489164, -0.6, -1.40856, 2.32152, -0.669566, -2.13699],# face up\n",
    "    [0.0397607, 1.18538, -0.8, -0.756239, -2.84594, -1.06418, -2.42207]# floor down\n",
    "]\n",
    "\n",
    "right_waypoints = []\n",
    "for w in left_waypoints:\n",
    "    right_waypoints.append(mirror_arm_joints(w))\n",
    "    \n",
    "waypoints = [init_joint0.copy()]\n",
    "for i in range(len(left_waypoints)):\n",
    "    waypoints.append(right_waypoints[i]+left_waypoints[i])"
   ]
  },
  {
   "cell_type": "markdown",
   "metadata": {},
   "source": [
    "### Set the IK Solver "
   ]
  },
  {
   "cell_type": "code",
   "execution_count": 6,
   "metadata": {},
   "outputs": [],
   "source": [
    "hmat_target = np.array([[ 0.9689,  0.    , -0.2474,  0.4918],\n",
    "       [-0.    ,  1.    ,  0.    ,  0.912 ],\n",
    "       [ 0.2474, -0.    ,  0.9689,  0.8947],\n",
    "       [ 0.    ,  0.    ,  0.    ,  1.    ]])\n",
    "quat_target = openravepy.quatFromRotationMatrix(hmat_target).tolist()\n",
    "xyz_target = hmat_target[0:3,3].tolist()\n",
    "\n",
    "# BEGIN IK for all manips\n",
    "manips = [left_arm,right_arm]\n",
    "for manip in manips:\n",
    "    robot.SetActiveManipulator(manip)\n",
    "    ikmodel = openravepy.databases.inversekinematics.InverseKinematicsModel(\n",
    "        robot, iktype=openravepy.IkParameterization.Type.Transform6D)\n",
    "    if not ikmodel.load():\n",
    "        ikmodel.autogenerate()   \n",
    "    \n",
    "target_joint = ku.ik_for_link(hmat_target, left_arm, \"l_gripper_tool_frame\",\n",
    "    filter_options = openravepy.IkFilterOptions.CheckEnvCollisions)\n",
    "# END ik"
   ]
  },
  {
   "cell_type": "markdown",
   "metadata": {},
   "source": [
    "### Build / Retrieve Dataset"
   ]
  },
  {
   "cell_type": "code",
   "execution_count": 7,
   "metadata": {},
   "outputs": [],
   "source": [
    "def generate_inputs(n = 100, filename = 'data.pkl'):\n",
    "    x = []\n",
    "    target_joints = []\n",
    "    for i in range(n):\n",
    "        _,_,_,_,init_joint = get_random_pose_both(env,limits,right_arm,left_arm)\n",
    "        robot.SetActiveDOFValues(init_joint)\n",
    "        _,_,_,_,target_joint = get_random_pose_both(env,limits,right_arm,left_arm)\n",
    "        robot.SetActiveDOFValues(target_joint)\n",
    "        x.append(np.concatenate([init_joint, target_joint]))\n",
    "        \n",
    "        if i%100 == 0:\n",
    "            print i\n",
    "\n",
    "    x = np.vstack(x)\n",
    "    data = dict()\n",
    "    data['x'] = x\n",
    "    input_file = open(filename, 'wb')\n",
    "    pickle.dump(data, input_file)\n",
    "    input_file.close()\n",
    "    return data"
   ]
  },
  {
   "cell_type": "code",
   "execution_count": 8,
   "metadata": {},
   "outputs": [],
   "source": [
    "def build_database(x_init, y_init, num_traj, limits,  predictor=None, n_steps = 30, x_train = None):\n",
    "    num_plan = 0\n",
    "    comp_times = []\n",
    "    costs = []\n",
    "    tic = time.time()\n",
    "    \n",
    "    while len(x_init) < num_traj:\n",
    "        print('{}th Planning, {} trajectories in database'.format(num_plan,len(x_init)))\n",
    "        if x_train is None:\n",
    "            #Get a random pose as init\n",
    "            _,_,_,_,init_joint = get_random_pose_both(env,limits,right_arm,left_arm)\n",
    "            robot.SetActiveDOFValues(init_joint)\n",
    "            #Get a random pose as target\n",
    "            _,_,_,_,target_joint = get_random_pose_both(env,limits,right_arm,left_arm)\n",
    "            robot.SetActiveDOFValues(target_joint)\n",
    "        else:\n",
    "            x_cur = x_train[num_plan]\n",
    "            init_joint = x_cur[:dof]\n",
    "            target_joint = x_cur[dof:]\n",
    "            \n",
    "        #plan\n",
    "        for func in predictor:\n",
    "            x_cur = np.atleast_2d(np.concatenate([init_joint,target_joint]))\n",
    "            if isinstance(func, Straight_Regressor):\n",
    "                traj,_ = func.predict(init_joint, target_joint)\n",
    "            else:\n",
    "                traj,_ = func.predict(x_cur)\n",
    "            if func.is_transform == 'PCA':\n",
    "                traj = func.pca.inverse_transform(traj)\n",
    "            traj = traj.reshape(-1,dof)\n",
    "            traj[0,:] = init_joint\n",
    "            robot.SetActiveDOFValues(init_joint)\n",
    "\n",
    "            request_traj = define_request(time_step =n_steps,coeffs = coeffs,init_type='given_traj',constraint_type='joint')\n",
    "            request_traj = add_constraint(request_traj, 'joint', '', target_joint,-1)\n",
    "            request_traj = set_init(request_traj, 'given_traj', traj)\n",
    "            duration, result = run_opt(request_traj, env)    \n",
    "\n",
    "            #check traj result\n",
    "            traj = result.GetTraj()\n",
    "            if check_traj(env,result, target_joint):\n",
    "                print 'Planning is successfull!'\n",
    "                x_init.append(np.concatenate([init_joint, target_joint]))\n",
    "                y_init.append(traj.flatten())\n",
    "                comp_times.append(duration)\n",
    "                costs.append(result.GetCosts()[0][1])\n",
    "                break\n",
    "            else:\n",
    "                print('Fail to find good solution!')\n",
    "                continue\n",
    "\n",
    "        num_plan += 1\n",
    "        \n",
    "    toc = time.time()\n",
    "    total_time = toc-tic\n",
    "    success_rate = num_traj*1.0/num_plan\n",
    "    x_init = np.vstack(x_init)\n",
    "    y_init = np.vstack(y_init)\n",
    "    \n",
    "    \n",
    "    data = dict()\n",
    "    data['x'] = x_init\n",
    "    data['y'] = y_init\n",
    "    data['total_time'] = total_time\n",
    "    data['success_rate'] = success_rate\n",
    "    data['comp_times'] = comp_times\n",
    "    data['costs'] = costs\n",
    "    return data"
   ]
  },
  {
   "cell_type": "markdown",
   "metadata": {},
   "source": [
    "### Generate the possible inputs"
   ]
  },
  {
   "cell_type": "code",
   "execution_count": 9,
   "metadata": {},
   "outputs": [],
   "source": [
    "to_create_input = False\n",
    "if to_create_input:\n",
    "    data_train = generate_inputs(n = 5000, filename = FILENAME + 'data_train.pkl')\n",
    "else:\n",
    "    data_train = pickle.load(open(FILENAME + 'data_train.pkl', 'rb'))\n",
    "    \n",
    "x_train = data_train['x']"
   ]
  },
  {
   "cell_type": "code",
   "execution_count": 10,
   "metadata": {
    "scrolled": true
   },
   "outputs": [],
   "source": [
    "to_build_database = False\n",
    "to_augment_database = False\n",
    "n_steps = 30\n",
    "straight = Straight_Regressor(dof = dof, n_steps = n_steps)\n",
    "\n",
    "num_traj = 1000\n",
    "limits = dict()\n",
    "limits[0] = [[0.47, 0.8],[-0.5, 0.5],[0.3,1.4]]\n",
    "\n",
    "if to_build_database:\n",
    "    if to_augment_database:\n",
    "        #load data\n",
    "        data = pickle.load( open(FILENAME + 'data.pkl', 'rb'))\n",
    "        x_init = list(data['x'])\n",
    "        y_init = list(data['y'])\n",
    "        x_train = x_train[2*len(x_init):]\n",
    "        num_traj += len(x_init)  \n",
    "    else:\n",
    "        x_init,y_init = [],[]\n",
    "        \n",
    "    data = build_database(x_init, y_init, num_traj,limits, x_train = x_train, predictor = [straight])\n",
    "    x_init = data['x']\n",
    "    y_init = data['y']\n",
    "    pickle.dump(data,open(FILENAME + 'data.pkl', 'wb') )\n",
    "    print('Success_rate : {}, average costs:{}'.format(data['success_rate'], np.mean(data['costs'])))\n",
    "else:\n",
    "    #load data\n",
    "    data = pickle.load( open(FILENAME + 'data.pkl', 'rb'))\n",
    "    x_init = data['x']\n",
    "    y_init = data['y']\n",
    "    num_traj = len(x_init)"
   ]
  },
  {
   "cell_type": "code",
   "execution_count": 11,
   "metadata": {},
   "outputs": [
    {
     "name": "stdout",
     "output_type": "stream",
     "text": [
      "(500, 28)\n"
     ]
    }
   ],
   "source": [
    "print x_init.shape"
   ]
  },
  {
   "cell_type": "markdown",
   "metadata": {},
   "source": [
    "### Reduce the data sample"
   ]
  },
  {
   "cell_type": "raw",
   "metadata": {},
   "source": [
    "x_init = x_init[0:200]\n",
    "y_init = y_init[0:200]"
   ]
  },
  {
   "cell_type": "markdown",
   "metadata": {},
   "source": [
    "### Apply Dimensionality Reduction to the data"
   ]
  },
  {
   "cell_type": "code",
   "execution_count": 12,
   "metadata": {
    "scrolled": true
   },
   "outputs": [],
   "source": [
    "from sklearn.decomposition import PCA\n",
    "y_pca = PCA(n_components = 50)\n",
    "y_pca.fit(y_init)\n",
    "y_init_reduced = y_pca.transform(y_init)"
   ]
  },
  {
   "cell_type": "markdown",
   "metadata": {},
   "source": [
    "### Check Database "
   ]
  },
  {
   "cell_type": "raw",
   "metadata": {},
   "source": [
    "for i in range(5):\n",
    "    index = np.random.randint(0,len(y_init))\n",
    "    traj = y_init[index:index+1]\n",
    "    traj = traj.reshape(-1,dof)\n",
    "    plot_traj(env,traj)"
   ]
  },
  {
   "cell_type": "markdown",
   "metadata": {},
   "source": [
    "### Build Function Approximator"
   ]
  },
  {
   "cell_type": "code",
   "execution_count": 13,
   "metadata": {},
   "outputs": [],
   "source": [
    "dim_input = len(x_init[0])\n",
    "is_load_regressor = True\n",
    "\n",
    "nn = NN_Regressor()\n",
    "gpy = GPy_Regressor(dim_input = dim_input)\n",
    "gpy_pca = GPy_Regressor(dim_input = dim_input, is_transform='PCA')\n",
    "gpy_pca.pca = y_pca\n",
    "bgmr = DP_GLM_Regressor()\n",
    "bgmr_pca = DP_GLM_Regressor(is_transform='PCA')\n",
    "bgmr_pca.pca = y_pca\n",
    "\n",
    "if is_load_regressor:\n",
    "    nn.load_from_file(FILENAME + 'nn.pkl')\n",
    "    gpy.load_from_file(FILENAME + 'gpy.pkl')\n",
    "    gpy_pca.load_from_file(FILENAME + 'gpy_pca.pkl')\n",
    "    bgmr.load_from_file(FILENAME + 'bgmr.pkl')\n",
    "    bgmr_pca.load_from_file(FILENAME + 'bgmr_pca.pkl')\n",
    "else:\n",
    "    print 'Planning for NN'\n",
    "    nn.fit(x_init, y_init)\n",
    "    nn.save_to_file(FILENAME + 'nn.pkl')\n",
    "\n",
    "    print 'Planning for GPY'\n",
    "    gpy.fit(x_init, y_init)\n",
    "    gpy.save_to_file(FILENAME + 'gpy.pkl')\n",
    "\n",
    "    print 'Planning for GPY PCA'\n",
    "    gpy_pca.fit(x_init, y_init_reduced)\n",
    "    gpy_pca.save_to_file(FILENAME + 'gpy_pca.pkl')\n",
    "\n",
    "    print 'Planning for bgmr'\n",
    "    bgmr.fit(x_init,y_init)\n",
    "    bgmr.save_to_file(FILENAME + 'bgmr.pkl')\n",
    "    \n",
    "    print 'Planning for bgmr PCA'\n",
    "    bgmr_pca.fit(x_init,y_init_reduced)\n",
    "    bgmr_pca.save_to_file(FILENAME + 'bgmr_pca.pkl')"
   ]
  },
  {
   "cell_type": "markdown",
   "metadata": {},
   "source": [
    "### Creating the test cases"
   ]
  },
  {
   "cell_type": "code",
   "execution_count": 14,
   "metadata": {
    "scrolled": true
   },
   "outputs": [],
   "source": [
    "create_test = False\n",
    "\n",
    "if create_test:\n",
    "    num_test = 300\n",
    "    data_test = generate_inputs(num_test, FILENAME + 'data_test.pkl')\n",
    "    x_test = data_test['x']\n",
    "else:\n",
    "    #load data\n",
    "    test_file = open(FILENAME + 'data_test.pkl', 'rb')\n",
    "    data_test = pickle.load(test_file)\n",
    "    x_test = data_test['x']\n",
    "    num_test = len(x_test)"
   ]
  },
  {
   "cell_type": "markdown",
   "metadata": {},
   "source": [
    "### Setting up Parallel Programming for Ensemble Method"
   ]
  },
  {
   "cell_type": "code",
   "execution_count": 15,
   "metadata": {},
   "outputs": [],
   "source": [
    "from joblib import Parallel, delayed\n",
    "mutex = Lock()\n",
    "   \n",
    "def run_opt_special(request):\n",
    "    robot.SetActiveDOFValues(init_joint)\n",
    "    s = json.dumps(request) \n",
    "    prob = trajoptpy.ConstructProblem(s, env)\n",
    "    tic = time.time()\n",
    "    try:\n",
    "        result = trajoptpy.OptimizeProblem(prob) # do optimization\n",
    "    except:\n",
    "        print 'Fault in optimization'\n",
    "        return False, None, None, None\n",
    "    toc = time.time()\n",
    "    print(\"Optimization is completed in {} s!\".format(toc-tic))\n",
    "    duration = toc-tic\n",
    "    \n",
    "    #check the result\n",
    "    success = check_traj(env,result, target_joint)    \n",
    "\n",
    "    result_new = dict()\n",
    "    result_new['traj'] = result.GetTraj()\n",
    "    result_new['costs'] = result.GetCosts()[0][1]\n",
    "    cost = result.GetCosts()[0][1]\n",
    "    result_new['status'] = result.GetStatus()\n",
    "    return success, duration, cost, result_new\n",
    "\n",
    "def function_callback(result):\n",
    "    with mutex:\n",
    "        print 'Obtain result:'\n",
    "        print result[0]\n",
    "        global count_proc\n",
    "        global num_proc\n",
    "        count_proc+= 1\n",
    "        global ensemble_result\n",
    "        ensemble_result = result\n",
    "        print count_proc, num_proc\n",
    "        if result[0]:\n",
    "            print 'Terminating the mp'\n",
    "            pool.terminate()\n",
    "            return\n",
    "        if count_proc == num_proc:\n",
    "            print 'All fails, terminating the mp'\n",
    "            pool.terminate()"
   ]
  },
  {
   "cell_type": "markdown",
   "metadata": {},
   "source": [
    "### Evaluation"
   ]
  },
  {
   "cell_type": "code",
   "execution_count": 16,
   "metadata": {
    "scrolled": true
   },
   "outputs": [
    {
     "name": "stdout",
     "output_type": "stream",
     "text": [
      "0th Planning\n"
     ]
    },
    {
     "name": "stderr",
     "output_type": "stream",
     "text": [
      "No handlers could be found for logger \"openravepy\"\n"
     ]
    },
    {
     "name": "stdout",
     "output_type": "stream",
     "text": [
      "Optimization is completed in 2.40789484978 s!\n",
      "There is a collision within the trajectory!\n",
      "Optimization is completed in 1.70137000084 s!\n",
      "There is a collision within the trajectory!\n",
      "Optimization is completed in 2.41570305824 s!\n",
      "Optimization is completed in 2.30686712265 s!\n",
      "Optimization is completed in 1.15101599693 s!\n",
      "Optimization is completed in 1.95893311501 s!\n",
      "Optimization is completed in 1.21433186531 s!\n",
      "Obtain result:\n",
      "True\n",
      "Terminating the mp\n",
      "Ensemble takes 1.51269602776\n",
      "Optimization is completed in 1.36026883125 s!\n",
      "Obtain result:\n",
      "True\n",
      "Terminating the mp\n",
      "Multiple waypoints takes 1.61138510704\n",
      "1th Planning\n",
      "Optimization is completed in 2.05764603615 s!\n",
      "Optimization is completed in 0.806246042252 s!\n",
      "There is a collision within the trajectory!\n",
      "Optimization is completed in 1.47047305107 s!\n",
      "Optimization is completed in 1.78134202957 s!\n",
      "Optimization is completed in 1.55458307266 s!\n",
      "Optimization is completed in 1.86990904808 s!\n",
      "Optimization is completed in 0.83775305748 s!\n",
      "There is a collision within the trajectory!\n",
      "Obtain result:\n",
      "False\n",
      "Optimization is completed in 1.44822406769 s!\n",
      "Obtain result:\n",
      "True\n",
      "Terminating the mp\n",
      "Ensemble takes 1.71363711357\n",
      "Optimization is completed in 2.32742500305 s!\n",
      "Obtain result:\n",
      "True\n",
      "Terminating the mp\n",
      "Multiple waypoints takes 2.61565685272\n",
      "2th Planning\n",
      "Optimization is completed in 1.8345708847 s!\n",
      "There is a collision within the trajectory!\n",
      "Optimization is completed in 1.75224685669 s!\n",
      "Optimization is completed in 3.68308806419 s!\n",
      "There is a collision within the trajectory!\n",
      "Optimization is completed in 3.09660792351 s!\n",
      "Optimization is completed in 4.30461502075 s!\n",
      "Optimization is completed in 2.99571609497 s!\n",
      "Optimization is completed in 1.84917712212 s!\n",
      "Optimization is completed in 2.06508588791 s!\n",
      "There is a collision within the trajectory!\n",
      "Obtain result:\n",
      "False\n",
      "Optimization is completed in 3.07545804977 s!\n",
      "Optimization is completed in 3.13880205154 s!\n",
      "Obtain result:\n",
      "True\n",
      "Terminating the mp\n",
      "Ensemble takes 3.31708717346\n",
      "Optimization is completed in 2.12892794609 s!\n",
      "Obtain result:\n",
      "True\n",
      "Terminating the mp\n",
      "Multiple waypoints takes 2.41501998901\n",
      "3th Planning\n",
      "Optimization is completed in 0.234310150146 s!\n",
      "Optimization is completed in 2.28520512581 s!\n",
      "Optimization is completed in 0.93460893631 s!\n",
      "Optimization is completed in 0.799304008484 s!\n",
      "Optimization is completed in 0.900065898895 s!\n",
      "Optimization is completed in 0.824558019638 s!\n",
      "Optimization is completed in 0.260118961334 s!\n",
      "Obtain result:\n",
      "True\n",
      "Terminating the mp\n",
      "Ensemble takes 0.510071992874\n",
      "Optimization is completed in 0.362612962723 s!\n",
      "Obtain result:\n",
      "True\n",
      "Terminating the mp\n",
      "Multiple waypoints takes 0.609961986542\n",
      "4th Planning\n",
      "Optimization is completed in 0.379408836365 s!\n",
      "Optimization is completed in 0.4077501297 s!\n",
      "Optimization is completed in 0.637094020844 s!\n",
      "Optimization is completed in 0.408200979233 s!\n",
      "Optimization is completed in 0.451441049576 s!\n",
      "Optimization is completed in 0.735557794571 s!\n",
      "Optimization is completed in 0.363310098648 s!\n",
      "Optimization is completed in 0.396820068359 s!\n",
      "Optimization is completed in 0.46114897728 s!\n",
      "Optimization is completed in 0.50714802742 s!\n",
      "Obtain result:\n",
      "True\n",
      "Terminating the mp\n",
      "Ensemble takes 0.610999822617\n",
      "Optimization is completed in 1.24045395851 s!\n",
      "Optimization is completed in 2.08175396919 s!\n",
      "There is a collision within the trajectory!\n",
      "Optimization is completed in 2.30182480812 s!\n",
      "Obtain result:\n",
      "False\n",
      "There is a collision within the trajectory!\n",
      "Obtain result:\n",
      "False\n",
      "Optimization is completed in 3.01892495155 s!\n",
      "Optimization is completed in 3.11531591415 s!\n",
      "There is a collision within the trajectory!\n",
      "Obtain result:\n",
      "False\n",
      "Obtain result:\n",
      "True\n",
      "Terminating the mp\n",
      "Multiple waypoints takes 3.41760993004\n",
      "5th Planning\n",
      "Optimization is completed in 0.737006902695 s!\n",
      "Optimization is completed in 2.1162340641 s!\n",
      "There is a collision within the trajectory!\n",
      "Optimization is completed in 0.813501834869 s!\n",
      "Optimization is completed in 0.880326032639 s!\n",
      "Optimization is completed in 0.867727041245 s!\n",
      "Optimization is completed in 1.34898900986 s!\n",
      "Optimization is completed in 0.765596866608 s!\n",
      "Optimization is completed in 0.788927078247 s!\n",
      "Optimization is completed in 0.894592046738 s!\n",
      "Optimization is completed in 0.982583045959 s!\n",
      "Obtain result:\n",
      "True\n",
      "Terminating the mp\n",
      "Ensemble takes 1.01295495033\n",
      "Optimization is completed in 0.944905996323 s!\n",
      "Obtain result:\n",
      "True\n",
      "Terminating the mp\n",
      "Multiple waypoints takes 1.21601581573\n",
      "6th Planning\n",
      "Optimization is completed in 0.863229036331 s!\n",
      "Optimization is completed in 0.701768159866 s!\n",
      "There is a collision within the trajectory!\n",
      "Optimization is completed in 0.88371515274 s!\n",
      "Optimization is completed in 1.02224612236 s!\n",
      "Optimization is completed in 1.12749910355 s!\n",
      "Optimization is completed in 1.14916706085 s!\n",
      "Optimization is completed in 0.799751996994 s!\n",
      "Optimization is completed in 0.871085166931 s!\n",
      "Optimization is completed in 0.943218946457 s!\n",
      "Optimization is completed in 1.00768303871 s!\n",
      "There is a collision within the trajectory!\n",
      "Obtain result:\n",
      "False\n",
      "Obtain result:\n",
      "True\n",
      "Terminating the mp\n",
      "Ensemble takes 1.11157989502\n",
      "Optimization is completed in 1.21214413643 s!\n",
      "Optimization is completed in 1.34933590889 s!\n",
      "There is a collision within the trajectory!\n",
      "Optimization is completed in 1.55094003677 s!\n",
      "Obtain result:\n",
      "False\n",
      "Obtain result:\n",
      "True\n",
      "Terminating the mp\n",
      "Multiple waypoints takes 1.61626815796\n",
      "7th Planning\n",
      "Optimization is completed in 1.60406517982 s!\n",
      "Optimization is completed in 2.332020998 s!\n",
      "There is a collision within the trajectory!\n",
      "Optimization is completed in 2.97137618065 s!\n",
      "Optimization is completed in 1.62668991089 s!\n",
      "Optimization is completed in 1.83810591698 s!\n",
      "Optimization is completed in 1.79499292374 s!\n",
      "Optimization is completed in 1.62125205994 s!\n",
      "Optimization is completed in 1.66665005684 s!\n",
      "Obtain result:\n",
      "True\n",
      "Terminating the mp\n",
      "Ensemble takes 1.81223297119\n",
      "Optimization is completed in 1.71006011963 s!\n",
      "There is a collision within the trajectory!\n",
      "Obtain result:\n",
      "False\n",
      "Optimization is completed in 2.09214997292 s!\n",
      "There is a collision within the trajectory!\n",
      "Obtain result:\n",
      "False\n",
      "Optimization is completed in 2.63398599625 s!\n",
      "Optimization is completed in 2.70517015457 s!\n",
      "Optimization is completed in 2.70885682106 s!\n",
      "There is a collision within the trajectory!\n",
      "Optimization is completed in 2.79398798943 s!\n",
      "There is a collision within the trajectory!\n",
      "There is a collision within the trajectory!\n",
      "There is a collision within the trajectory!\n",
      "Obtain result:\n",
      "False\n",
      "Obtain result:\n",
      "False\n",
      "Obtain result:\n",
      "False\n",
      "Obtain result:\n",
      "False\n",
      "All fails, terminating the mp\n",
      "Multiple waypoints takes 3.02481102943\n",
      "8th Planning\n",
      "Optimization is completed in 1.84199595451 s!\n",
      "Optimization is completed in 2.3873360157 s!\n",
      "Optimization is completed in 1.12201690674 s!\n",
      "There is a collision within the trajectory!\n",
      "Optimization is completed in 1.00769090652 s!\n",
      "Optimization is completed in 1.4484360218 s!\n",
      "Optimization is completed in 1.44268918037 s!\n",
      "Optimization is completed in 0.970752954483 s!\n",
      "Optimization is completed in 1.151512146 s!\n",
      "Obtain result:\n",
      "True\n",
      "Terminating the mp\n",
      "Ensemble takes 1.31153893471\n",
      "Optimization is completed in 1.75421690941 s!\n",
      "Obtain result:\n",
      "True\n",
      "Terminating the mp\n",
      "Multiple waypoints takes 2.01359295845\n",
      "9th Planning\n",
      "Optimization is completed in 1.51699709892 s!\n",
      "Optimization is completed in 0.790194034576 s!\n",
      "Optimization is completed in 1.49473190308 s!\n",
      "Optimization is completed in 1.77737498283 s!\n",
      "Optimization is completed in 0.936367034912 s!\n",
      "Optimization is completed in 1.39441919327 s!\n",
      "Optimization is completed in 0.823323011398 s!\n",
      "Optimization is completed in 1.07437992096 s!\n",
      "Obtain result:\n",
      "True\n",
      "Terminating the mp\n",
      "Ensemble takes 1.11320400238\n",
      "Optimization is completed in 1.39672398567 s!\n",
      "There is a collision within the trajectory!\n",
      "Optimization is completed in 1.65233588219 s!\n",
      "Obtain result:\n",
      "False\n",
      "There is a collision within the trajectory!\n",
      "Obtain result:\n",
      "False\n",
      "Optimization is completed in 2.28363204002 s!\n",
      "Obtain result:\n",
      "True\n",
      "Terminating the mp\n",
      "Multiple waypoints takes 2.51269316673\n"
     ]
    }
   ],
   "source": [
    "method_names = ['STD    ', 'NN      ', 'GPR    ', 'GPR_PCA', 'BGMR', 'BGMR_PCA', 'ensemble', 'waypoints']\n",
    "methods = [straight, nn, gpy, gpy_pca, bgmr, bgmr_pca]\n",
    "#method_names = ['STD    ', 'NN      ', 'GPR    ',  'ensemble', 'waypoints']\n",
    "#methods = [straight, nn, gpy]\n",
    "\n",
    "\n",
    "results = dict()\n",
    "result,success, duration = dict(),dict(),dict()\n",
    "ensemble_result = None\n",
    "for method in method_names:\n",
    "    results[method] = dict()\n",
    "    results[method]['costs'] = []\n",
    "    results[method]['successes'] = []\n",
    "    results[method]['comp_times'] = []\n",
    "    results[method]['func_evals'] = []\n",
    "    results[method]['qp_solves'] = []\n",
    "    \n",
    "num_test = 10\n",
    "for i in range(num_test):\n",
    "    print('{}th Planning'.format(i))\n",
    "    \n",
    "    #setting up the problem case\n",
    "    index = np.random.randint(0,len(x_test))\n",
    "    index = i\n",
    "    x_cur = x_test[index:index+1,:].flatten()\n",
    "    init_joint = x_cur.copy()[0:dof]\n",
    "    target_joint = x_cur.copy()[dof:]\n",
    "    robot.SetActiveDOFValues(init_joint)\n",
    "    \n",
    "    \n",
    "    x_cur = np.atleast_2d(np.concatenate([init_joint,target_joint]))\n",
    "    request_trajs = []\n",
    "    for i,method in enumerate(methods):\n",
    "        request_traj = define_request(coeffs = coeffs,init_type='given_traj',constraint_type='joint')\n",
    "        request_traj = add_constraint(request_traj, 'joint', '', target_joint,-1)\n",
    "        method_name = method_names[i]\n",
    "        if isinstance(method, Straight_Regressor):\n",
    "            traj,_ = method.predict(init_joint, target_joint)\n",
    "        else:\n",
    "            traj,cov = method.predict(x_cur)\n",
    "        if method.is_transform == 'PCA':\n",
    "            traj = method.pca.inverse_transform(traj)\n",
    "        traj = traj.reshape(-1,dof)\n",
    "        traj[0,:] = init_joint\n",
    "        robot.SetActiveDOFValues(init_joint)\n",
    "        request_traj = set_init(request_traj, 'given_traj', traj)\n",
    "        success[method_name], duration[method_name], _, result[method_name] = run_opt_special(request_traj)    \n",
    "        request_trajs.append(request_traj)\n",
    "\n",
    "    \n",
    "    #ensemble methods   \n",
    "    num_proc = len(request_trajs)\n",
    "    pool = mp.Pool(processes = num_proc)\n",
    "    count_proc = 0\n",
    "    tic = time.time()\n",
    "    for request in request_trajs:\n",
    "        pool.apply_async(run_opt_special, args = (request, ), callback = function_callback)\n",
    "    pool.close()\n",
    "    pool.join()\n",
    "    toc = time.time()\n",
    "    print 'Ensemble takes ' + str(toc-tic)\n",
    "    results['ensemble']['costs'].append(ensemble_result[2])\n",
    "    results['ensemble']['successes'].append(ensemble_result[0])      \n",
    "    results['ensemble']['comp_times'].append(toc-tic)\n",
    "    \n",
    "    #multiple_waypoints\n",
    "    cur_waypoints = list(waypoints)\n",
    "    cur_waypoints.append(0.5*(init_joint+target_joint))\n",
    "    num_proc = len(cur_waypoints)\n",
    "    pool = mp.Pool(processes = num_proc)\n",
    "    count_proc = 0\n",
    "    tic = time.time()\n",
    "    #create request_trajs\n",
    "    request_trajs = []\n",
    "    for j in range(num_proc):\n",
    "        waypoint = cur_waypoints[j]\n",
    "        request_traj = define_request(coeffs = coeffs,init_type='given_traj',constraint_type='joint')\n",
    "        request_traj = add_constraint(request_traj, 'joint', '', target_joint,-1)\n",
    "        method_name = 'waypoints'\n",
    "        traj,_ = straight.predict_with_waypoint(init_joint, target_joint, waypoint, n_steps/2 )\n",
    "        traj = traj.reshape(-1,dof)\n",
    "        traj[0,:] = init_joint\n",
    "        robot.SetActiveDOFValues(init_joint)\n",
    "        request_traj = set_init(request_traj, 'given_traj', traj)\n",
    "        request_trajs.append(request_traj)\n",
    "    \n",
    "    #run request_trajs\n",
    "    for request in request_trajs:\n",
    "        pool.apply_async(run_opt_special, args = (request, ), callback = function_callback)\n",
    "    pool.close()\n",
    "    pool.join()\n",
    "    toc = time.time()\n",
    "    print 'Multiple waypoints takes ' + str(toc-tic)\n",
    "    results['waypoints']['costs'].append(ensemble_result[2])\n",
    "    results['waypoints']['successes'].append(ensemble_result[0])      \n",
    "    results['waypoints']['comp_times'].append(toc-tic)\n",
    "    \n",
    "    #Record the result\n",
    "    for method_name in method_names[:-2]:\n",
    "        results[method_name]['costs'].append(result[method_name]['costs'])#.GetCosts())#[0][1])\n",
    "        results[method_name]['successes'].append(success[method_name])      \n",
    "        results[method_name]['comp_times'].append(duration[method_name])\n"
   ]
  },
  {
   "cell_type": "markdown",
   "metadata": {},
   "source": [
    "### Printing Results"
   ]
  },
  {
   "cell_type": "code",
   "execution_count": 18,
   "metadata": {
    "scrolled": false
   },
   "outputs": [
    {
     "name": "stdout",
     "output_type": "stream",
     "text": [
      " Method \t| Success Rate \t| Conv. Time \t| Traj. Cost \t| Func. Evals \t| QP Solves\n",
      "STD    : \t& 80.0 \t& 1.15 \t& 1.306 \\\\\n",
      "NN      : \t& 50.0 \t& 1.52 \t& 3.723 \\\\\n",
      "GPR    : \t& 80.0 \t& 1.45 \t& 1.120 \\\\\n",
      "GPR_PCA: \t& 100.0 \t& 1.47 \t& 1.353 \\\\\n",
      "BGMR: \t& 100.0 \t& 1.46 \t& 1.538 \\\\\n",
      "BGMR_PCA: \t& 100.0 \t& 1.55 \t& 1.417 \\\\\n",
      "ensemble: \t& 100.0 \t& 1.40 \t& 1.732 \\\\\n",
      "waypoints: \t& 90.0 \t& 2.00 \t& 2.548 \\\\\n"
     ]
    }
   ],
   "source": [
    "print(' Method \\t| Success Rate \\t| Conv. Time \\t| Traj. Cost \\t| Func. Evals \\t| QP Solves')\n",
    "for method in method_names:\n",
    "    successes = np.array(results[method]['successes'])\n",
    "    success = np.count_nonzero(successes)\n",
    "    comp_times = np.array(results[method]['comp_times'])[successes]\n",
    "    costs = np.array(results[method]['costs'])[successes]\n",
    "    \n",
    "    print('{0}: \\t& {1:.1f} \\t& {2:.2f} \\t& {3:.3f} \\\\\\\\'.format(method, success*100.0/len(successes), np.sum(comp_times)/success, np.sum(costs)/success )) "
   ]
  },
  {
   "cell_type": "code",
   "execution_count": 20,
   "metadata": {
    "scrolled": false
   },
   "outputs": [
    {
     "name": "stdout",
     "output_type": "stream",
     "text": [
      " Method \t| Success Rate \t| Conv. Time \t| Traj. Cost \t| Func. Evals \t| QP Solves\n",
      "STD    : \t& 75.6 \t& 0.85 \t& 1.309 \\\\\n",
      "NN      : \t& 64.4 \t& 1.18 \t& 1.535 \\\\\n",
      "GPR    : \t& 83.2 \t& 0.87 \t& 1.316 \\\\\n",
      "GPR_PCA: \t& 86.8 \t& 0.89 \t& 1.319 \\\\\n",
      "BGMR: \t& 82.0 \t& 0.86 \t& 1.339 \\\\\n",
      "BGMR_PCA: \t& 80.0 \t& 0.94 \t& 1.384 \\\\\n",
      "ensemble: \t& 96.0 \t& 1.06 \t& 1.413 \\\\\n",
      "waypoints: \t& 94.0 \t& 1.45 \t& 1.778 \\\\\n"
     ]
    }
   ],
   "source": [
    "print(' Method \\t| Success Rate \\t| Conv. Time \\t| Traj. Cost \\t| Func. Evals \\t| QP Solves')\n",
    "for method in method_names:\n",
    "    successes = np.array(results[method]['successes'])\n",
    "    success = np.count_nonzero(successes)\n",
    "    comp_times = np.array(results[method]['comp_times'])[successes]\n",
    "    costs = np.array(results[method]['costs'])[successes]\n",
    "    \n",
    "    print('{0}: \\t& {1:.1f} \\t& {2:.2f} \\t& {3:.3f} \\\\\\\\'.format(method, success*100.0/len(successes), np.sum(comp_times)/success, np.sum(costs)/success )) "
   ]
  },
  {
   "cell_type": "markdown",
   "metadata": {},
   "source": [
    "### Save Result"
   ]
  },
  {
   "cell_type": "code",
   "execution_count": null,
   "metadata": {},
   "outputs": [],
   "source": [
    "pickle.dump(results,open(FILENAME + 'result_both.pkl', 'wb') )"
   ]
  },
  {
   "cell_type": "markdown",
   "metadata": {},
   "source": [
    "### Load Result "
   ]
  },
  {
   "cell_type": "code",
   "execution_count": null,
   "metadata": {},
   "outputs": [],
   "source": [
    "results = pickle.load(open(FILENAME + 'result_both.pkl', 'rb'))"
   ]
  },
  {
   "cell_type": "markdown",
   "metadata": {},
   "source": [
    "### Printing Results Tied to Standard Success"
   ]
  },
  {
   "cell_type": "code",
   "execution_count": 21,
   "metadata": {
    "scrolled": true
   },
   "outputs": [
    {
     "name": "stdout",
     "output_type": "stream",
     "text": [
      " Method \t| Success Rate \t| Conv. Time \t| Traj. Cost \t| Func. Evals \t| QP Solves\n",
      "STD    : \t& 1.000 \t& 0.85 \t& 1.309 \\\\\n",
      "NN      : \t& 0.693 \t& 1.17 \t& 1.488 \\\\\n",
      "GPR    : \t& 0.910 \t& 0.80 \t& 1.282 \\\\\n",
      "GPR_PCA: \t& 0.937 \t& 0.82 \t& 1.291 \\\\\n",
      "BGMR: \t& 0.899 \t& 0.80 \t& 1.307 \\\\\n",
      "BGMR_PCA: \t& 0.862 \t& 0.88 \t& 1.329 \\\\\n",
      "ensemble: \t& 1.000 \t& 0.99 \t& 1.345 \\\\\n",
      "waypoints: \t& 0.979 \t& 1.29 \t& 1.595 \\\\\n"
     ]
    }
   ],
   "source": [
    "print(' Method \\t| Success Rate \\t| Conv. Time \\t| Traj. Cost \\t| Func. Evals \\t| QP Solves')\n",
    "standard_successes = np.array(results['STD    ']['successes'])\n",
    "\n",
    "for method in method_names:\n",
    "    successes = np.array(results[method]['successes'])[standard_successes]\n",
    "    success = np.count_nonzero(successes)\n",
    "    comp_times = np.array(results[method]['comp_times'])[standard_successes][successes]\n",
    "    costs = np.array(results[method]['costs'])[standard_successes][successes]\n",
    "    \n",
    "    print('{0}: \\t& {1:.3f} \\t& {2:.2f} \\t& {3:.3f} \\\\\\\\'.format(method, success*1.0/len(successes), np.sum(comp_times)/success, np.sum(costs)/success))#, 1.0*np.sum(func_evals)/success, 1.0*np.sum(qp_solves)/success ))\n",
    "    "
   ]
  }
 ],
 "metadata": {
  "kernelspec": {
   "display_name": "Python 2",
   "language": "python",
   "name": "python2"
  },
  "language_info": {
   "codemirror_mode": {
    "name": "ipython",
    "version": 2
   },
   "file_extension": ".py",
   "mimetype": "text/x-python",
   "name": "python",
   "nbconvert_exporter": "python",
   "pygments_lexer": "ipython2",
   "version": "2.7.12"
  }
 },
 "nbformat": 4,
 "nbformat_minor": 2
}
