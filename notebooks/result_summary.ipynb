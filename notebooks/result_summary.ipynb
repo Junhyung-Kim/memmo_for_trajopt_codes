{
 "cells": [
  {
   "cell_type": "code",
   "execution_count": 1,
   "metadata": {},
   "outputs": [],
   "source": [
    "import openravepy\n",
    "import trajoptpy\n",
    "import json\n",
    "import numpy as np\n",
    "import trajoptpy.kin_utils as ku\n",
    "from trajoptpy.check_traj import traj_is_safe\n",
    "import time\n",
    "import random \n",
    "import matplotlib.pyplot as plt\n",
    "import pickle\n",
    "from trajopt_util import *\n",
    "from planning_util import *\n",
    "from regression import *\n",
    "%matplotlib inline\n",
    "%load_ext autoreload\n",
    "%autoreload 2\n",
    "\n"
   ]
  },
  {
   "cell_type": "markdown",
   "metadata": {},
   "source": [
    "## Base Motion Planning "
   ]
  },
  {
   "cell_type": "code",
   "execution_count": 5,
   "metadata": {},
   "outputs": [
    {
     "name": "stdout",
     "output_type": "stream",
     "text": [
      " Method \t| Success Rate \t| Conv. Time \t| Traj. Cost \t| Func. Evals \t| QP Solves\n",
      "STD     \t& 79.0 \t& 0.53$\\pm$0.23 \t& 1.43$\\pm$0.37 \\\\\n",
      "NN      \t& 95.0 \t& 0.32$\\pm$0.16 \t& 1.53$\\pm$0.62 \\\\\n",
      "GPY     \t& 0.0 \t& nan$\\pm$nan \t& nan$\\pm$nan \\\\\n",
      "BGMR     \t& 94.0 \t& 0.31$\\pm$0.15 \t& 1.33$\\pm$0.40 \\\\\n"
     ]
    },
    {
     "name": "stderr",
     "output_type": "stream",
     "text": [
      " planning_util.py:164: RuntimeWarning:invalid value encountered in double_scalars\n",
      " /usr/lib/python2.7/dist-packages/numpy/core/_methods.py:82: RuntimeWarning:Degrees of freedom <= 0 for slice\n",
      " /usr/lib/python2.7/dist-packages/numpy/core/_methods.py:94: RuntimeWarning:invalid value encountered in true_divide\n",
      " /usr/lib/python2.7/dist-packages/numpy/core/_methods.py:116: RuntimeWarning:invalid value encountered in double_scalars\n",
      " planning_util.py:167: RuntimeWarning:invalid value encountered in double_scalars\n"
     ]
    }
   ],
   "source": [
    "FILENAME = 'data/base_planning/'\n",
    "results = pickle.load(open(FILENAME + 'result_both.pkl', 'rb'))\n",
    "method_names = ['STD    ', 'NN     ', 'GPY    ',  'BGMR    ']\n",
    "print_result(results,method_names)"
   ]
  },
  {
   "cell_type": "markdown",
   "metadata": {},
   "source": [
    "## Dual Arm Joint Planning (Fixed Init) "
   ]
  },
  {
   "cell_type": "code",
   "execution_count": 11,
   "metadata": {},
   "outputs": [
    {
     "name": "stdout",
     "output_type": "stream",
     "text": [
      " Method \t| Success Rate \t| Conv. Time \t| Traj. Cost \t| Func. Evals \t| QP Solves\n",
      "STD     \t& 82.0 \t& 0.75$\\pm$0.37 \t& 1.90$\\pm$0.61 \\\\\n",
      "NN      \t& 92.4 \t& 0.60$\\pm$0.29 \t& 2.03$\\pm$0.69 \\\\\n",
      "GPR     \t& 92.8 \t& 0.63$\\pm$0.25 \t& 1.86$\\pm$0.57 \\\\\n",
      "GPR_PCA \t& 91.6 \t& 0.64$\\pm$0.26 \t& 1.88$\\pm$0.57 \\\\\n",
      "BGMR \t& 91.6 \t& 0.58$\\pm$0.26 \t& 1.89$\\pm$0.56 \\\\\n",
      "BGMR_PCA \t& 90.0 \t& 0.63$\\pm$0.26 \t& 1.90$\\pm$0.58 \\\\\n"
     ]
    }
   ],
   "source": [
    "FILENAME = 'data/dual_arm_fixed_init/'\n",
    "results = pickle.load(open(FILENAME +  'result.pkl', 'rb'))\n",
    "method_names = ['STD    ', 'NN     ', 'GPR    ', 'GPR_PCA', 'BGMR', 'BGMR_PCA']\n",
    "print_result(results,method_names)"
   ]
  },
  {
   "cell_type": "code",
   "execution_count": 7,
   "metadata": {},
   "outputs": [
    {
     "data": {
      "text/plain": [
       "250"
      ]
     },
     "execution_count": 7,
     "metadata": {},
     "output_type": "execute_result"
    }
   ],
   "source": [
    "len(results['BGMR_PCA']['successes'])"
   ]
  },
  {
   "cell_type": "markdown",
   "metadata": {},
   "source": [
    "## Dual Arm Joint Planning (Random Init) "
   ]
  },
  {
   "cell_type": "code",
   "execution_count": 21,
   "metadata": {},
   "outputs": [
    {
     "name": "stdout",
     "output_type": "stream",
     "text": [
      " Method \t| Success Rate \t| Conv. Time \t| Traj. Cost \t| Func. Evals \t| QP Solves\n",
      "STD     \t& 80.0 \t& 0.89$\\pm$0.52 \t& 1.21$\\pm$0.70 \\\\\n",
      "NN       \t& 74.0 \t& 1.15$\\pm$0.72 \t& 1.55$\\pm$1.00 \\\\\n",
      "GPR     \t& 88.0 \t& 0.92$\\pm$0.49 \t& 1.20$\\pm$0.74 \\\\\n",
      "GPR_PCA \t& 86.0 \t& 0.94$\\pm$0.59 \t& 1.24$\\pm$0.75 \\\\\n",
      "BGMR \t& 87.0 \t& 0.78$\\pm$0.37 \t& 1.25$\\pm$0.74 \\\\\n",
      "BGMR_PCA \t& 88.0 \t& 0.95$\\pm$0.60 \t& 1.24$\\pm$0.75 \\\\\n",
      "ensemble \t& 99.0 \t& 1.11$\\pm$0.36 \t& 1.33$\\pm$0.83 \\\\\n",
      "waypoints \t& 94.0 \t& 1.60$\\pm$0.66 \t& 1.74$\\pm$1.28 \\\\\n"
     ]
    }
   ],
   "source": [
    "FILENAME = 'data/dual_arm_random_init/'\n",
    "results = pickle.load(open(FILENAME + '1000_result.pkl', 'rb'))\n",
    "method_names = ['STD    ', 'NN      ', 'GPR    ', 'GPR_PCA', 'BGMR', 'BGMR_PCA', 'ensemble', 'waypoints']\n",
    "print_result(results, method_names)"
   ]
  },
  {
   "cell_type": "markdown",
   "metadata": {},
   "source": [
    "## Dual Arm Cartesian Planning (Fixed Init) "
   ]
  },
  {
   "cell_type": "code",
   "execution_count": 11,
   "metadata": {},
   "outputs": [
    {
     "name": "stdout",
     "output_type": "stream",
     "text": [
      " Method \t| Success Rate \t| Conv. Time \t| Traj. Cost \t| Func. Evals \t| QP Solves\n",
      "STD     \t& 65.2 \t& 1.10$\\pm$0.62 \t& 1.86$\\pm$0.86 \\\\\n",
      "NN      \t& 73.6 \t& 1.28$\\pm$0.96 \t& 1.84$\\pm$0.81 \\\\\n",
      "GPY     \t& 66.4 \t& 1.81$\\pm$0.96 \t& 1.87$\\pm$0.87 \\\\\n",
      "GPY_PCA \t& 66.8 \t& 1.68$\\pm$0.98 \t& 1.78$\\pm$0.83 \\\\\n",
      "BGMR \t& 74.4 \t& 1.37$\\pm$0.82 \t& 1.82$\\pm$0.86 \\\\\n",
      "BGMR_PCA \t& 77.2 \t& 1.33$\\pm$0.75 \t& 1.84$\\pm$0.80 \\\\\n",
      "METRIC GPY_PCA \t& 86.8 \t& 0.70$\\pm$0.30 \t& 1.49$\\pm$0.56 \\\\\n",
      "METRIC DIRECT \t& 86.0 \t& 0.71$\\pm$0.33 \t& 1.47$\\pm$0.56 \\\\\n",
      "ensemble \t& 98.0 \t& 1.50$\\pm$0.60 \t& 1.60$\\pm$0.68 \\\\\n"
     ]
    }
   ],
   "source": [
    "FILENAME = 'data/dual_arm_cartesian/'\n",
    "results = pickle.load(open(FILENAME +  'result_new2.pkl', 'rb'))\n",
    "method_names = ['STD    ',  'NN     ', 'GPY    ', 'GPY_PCA',  'BGMR','BGMR_PCA', 'METRIC GPY_PCA','METRIC DIRECT', 'ensemble']\n",
    "print_result(results, method_names)"
   ]
  },
  {
   "cell_type": "markdown",
   "metadata": {},
   "source": [
    "## Whole-body Motion Planning (Fixed Init) "
   ]
  },
  {
   "cell_type": "code",
   "execution_count": 12,
   "metadata": {},
   "outputs": [
    {
     "name": "stdout",
     "output_type": "stream",
     "text": [
      " Method \t| Success Rate \t| Conv. Time \t| Traj. Cost \t| Func. Evals \t| QP Solves\n",
      "STD     \t& 50.8 \t& 6.31$\\pm$3.90 \t& 0.12$\\pm$0.07 \\\\\n",
      "NN      \t& 58.8 \t& 1.48$\\pm$1.39 \t& 0.11$\\pm$0.06 \\\\\n",
      "GPY     \t& 54.4 \t& 1.29$\\pm$1.09 \t& 0.10$\\pm$0.05 \\\\\n",
      "GPY_PCA    \t& 60.0 \t& 1.54$\\pm$1.46 \t& 0.11$\\pm$0.05 \\\\\n",
      "BGMR    \t& 56.4 \t& 1.32$\\pm$1.57 \t& 0.10$\\pm$0.05 \\\\\n",
      "BGMR_PCA   \t& 58.0 \t& 1.36$\\pm$1.16 \t& 0.11$\\pm$0.06 \\\\\n",
      "ensemble \t& 71.2 \t& 1.46$\\pm$1.40 \t& 0.12$\\pm$0.06 \\\\\n"
     ]
    }
   ],
   "source": [
    "FILENAME = 'data/atlas_planning/'\n",
    "results = pickle.load(open(FILENAME +  '1000_result3.pkl', 'rb'))\n",
    "method_names = ['STD    ',  'NN     ', 'GPY    ',  'GPY_PCA   ', 'BGMR   ','BGMR_PCA  ', 'ensemble']\n",
    "print_result(results, method_names)"
   ]
  },
  {
   "cell_type": "code",
   "execution_count": 63,
   "metadata": {},
   "outputs": [
    {
     "name": "stdout",
     "output_type": "stream",
     "text": [
      "162\n"
     ]
    }
   ],
   "source": [
    "successes = np.array([False]*250)\n",
    "for method_name in method_names[0:0]:\n",
    "    successes += results[method_name]['successes']\n",
    "for method_name in method_names[4:6]:\n",
    "    successes += results[method_name]['successes']\n",
    "print np.sum(successes)"
   ]
  }
 ],
 "metadata": {
  "kernelspec": {
   "display_name": "Python 2",
   "language": "python",
   "name": "python2"
  },
  "language_info": {
   "codemirror_mode": {
    "name": "ipython",
    "version": 2
   },
   "file_extension": ".py",
   "mimetype": "text/x-python",
   "name": "python",
   "nbconvert_exporter": "python",
   "pygments_lexer": "ipython2",
   "version": "2.7.12"
  }
 },
 "nbformat": 4,
 "nbformat_minor": 2
}
