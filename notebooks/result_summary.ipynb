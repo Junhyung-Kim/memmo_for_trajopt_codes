{
 "cells": [
  {
   "cell_type": "code",
   "execution_count": 20,
   "metadata": {},
   "outputs": [
    {
     "name": "stdout",
     "output_type": "stream",
     "text": [
      "The autoreload extension is already loaded. To reload it, use:\n",
      "  %reload_ext autoreload\n"
     ]
    }
   ],
   "source": [
    "import openravepy\n",
    "import trajoptpy\n",
    "import json\n",
    "import numpy as np\n",
    "import trajoptpy.kin_utils as ku\n",
    "from trajoptpy.check_traj import traj_is_safe\n",
    "import time\n",
    "import random \n",
    "import matplotlib.pyplot as plt\n",
    "import pickle\n",
    "from trajopt_util import *\n",
    "from planning_util import *\n",
    "from regression import *\n",
    "%matplotlib inline\n",
    "%load_ext autoreload\n",
    "%autoreload 2\n",
    "\n"
   ]
  },
  {
   "cell_type": "markdown",
   "metadata": {},
   "source": [
    "## Base Motion Planning "
   ]
  },
  {
   "cell_type": "code",
   "execution_count": 25,
   "metadata": {},
   "outputs": [],
   "source": [
    "FILENAME = 'data/base_planning/'\n",
    "results = pickle.load(open(FILENAME + 'result_both.pkl', 'rb'))\n",
    "method_names = ['STD    ', 'NN      ', 'GPR    ', 'BGMR']"
   ]
  },
  {
   "cell_type": "markdown",
   "metadata": {},
   "source": [
    "## Dual Arm Joint Planning (Fixed Init) "
   ]
  },
  {
   "cell_type": "code",
   "execution_count": 21,
   "metadata": {},
   "outputs": [],
   "source": [
    "FILENAME = 'data/dual_arm_fixed_init/'\n",
    "results = pickle.load(open(FILENAME +  'result.pkl', 'rb'))"
   ]
  },
  {
   "cell_type": "markdown",
   "metadata": {},
   "source": [
    "## Dual Arm Joint Planning (Random Init) "
   ]
  },
  {
   "cell_type": "code",
   "execution_count": 33,
   "metadata": {},
   "outputs": [
    {
     "name": "stdout",
     "output_type": "stream",
     "text": [
      " Method \t| Success Rate \t| Conv. Time \t| Traj. Cost \t| Func. Evals \t| QP Solves\n",
      "STD     \t& 78.000 \t& 0.79$\\pm$0.43 \t& 1.16$\\pm$0.67 \t \\\\\n",
      "NN       \t& 66.000 \t& 1.24$\\pm$0.70 \t& 1.61$\\pm$1.06 \t \\\\\n",
      "GPR     \t& 87.000 \t& 0.87$\\pm$0.43 \t& 1.24$\\pm$0.76 \t \\\\\n",
      "GPR_PCA \t& 92.000 \t& 0.86$\\pm$0.46 \t& 1.25$\\pm$0.75 \t \\\\\n",
      "BGMR \t& 82.000 \t& 0.84$\\pm$0.46 \t& 1.29$\\pm$0.73 \t \\\\\n",
      "BGMR_PCA \t& 90.000 \t& 0.93$\\pm$0.39 \t& 1.25$\\pm$0.74 \t \\\\\n",
      "ensemble \t& 99.000 \t& 1.08$\\pm$0.38 \t& 1.42$\\pm$0.98 \t \\\\\n",
      "waypoints \t& 93.000 \t& 1.46$\\pm$0.64 \t& 1.76$\\pm$1.45 \t \\\\\n"
     ]
    }
   ],
   "source": [
    "FILENAME = 'data/dual_arm_random_init/'\n",
    "results = pickle.load(open(FILENAME + '500_result.pkl', 'rb'))\n",
    "method_names = ['STD    ', 'NN      ', 'GPR    ', 'GPR_PCA', 'BGMR', 'BGMR_PCA', 'ensemble', 'waypoints']\n",
    "print_result(results, method_names)"
   ]
  },
  {
   "cell_type": "markdown",
   "metadata": {},
   "source": [
    "## Dual Arm Cartesian Planning (Fixed Init) "
   ]
  },
  {
   "cell_type": "code",
   "execution_count": 35,
   "metadata": {},
   "outputs": [
    {
     "name": "stdout",
     "output_type": "stream",
     "text": [
      " Method \t| Success Rate \t| Conv. Time \t| Traj. Cost \t| Func. Evals \t| QP Solves\n",
      "STD     \t& 65.600 \t& 1.17$\\pm$0.68 \t& 1.85$\\pm$0.87 \t & 0.00$\\pm$8.24 \t \\\\\n",
      "NN      \t& 73.600 \t& 1.34$\\pm$1.09 \t& 1.84$\\pm$0.81 \t & 0.00$\\pm$13.27 \t \\\\\n",
      "GPY     \t& 66.400 \t& 1.89$\\pm$1.10 \t& 1.87$\\pm$0.87 \t & 0.00$\\pm$13.85 \t \\\\\n",
      "GPY_PCA \t& 66.800 \t& 1.76$\\pm$1.22 \t& 1.78$\\pm$0.83 \t & 0.00$\\pm$15.03 \t \\\\\n",
      "BGMR \t& 74.400 \t& 1.46$\\pm$0.94 \t& 1.82$\\pm$0.86 \t & 0.00$\\pm$11.48 \t \\\\\n",
      "BGMR_PCA \t& 77.200 \t& 1.41$\\pm$0.79 \t& 1.84$\\pm$0.80 \t & 0.00$\\pm$9.74 \t \\\\\n",
      "METRIC GPY_PCA \t& 90.000 \t& 0.74$\\pm$0.33 \t& 1.49$\\pm$0.60 \t & 0.00$\\pm$4.43 \t \\\\\n",
      "METRIC DIRECT \t& 89.200 \t& 0.74$\\pm$0.31 \t& 1.48$\\pm$0.60 \t & 0.00$\\pm$4.54 \t \\\\\n"
     ]
    },
    {
     "name": "stderr",
     "output_type": "stream",
     "text": [
      " planning_util.py:161: VisibleDeprecationWarning:boolean index did not match indexed array along dimension 0; dimension is 0 but corresponding boolean dimension is 250\n"
     ]
    },
    {
     "ename": "IndexError",
     "evalue": "index 0 is out of bounds for axis 1 with size 0",
     "output_type": "error",
     "traceback": [
      "\u001b[0;31m---------------------------------------------------------------------------\u001b[0m",
      "\u001b[0;31mIndexError\u001b[0m                                Traceback (most recent call last)",
      "\u001b[0;32m<ipython-input-35-85fdee1ac777>\u001b[0m in \u001b[0;36m<module>\u001b[0;34m()\u001b[0m\n\u001b[1;32m      2\u001b[0m \u001b[0mresults\u001b[0m \u001b[0;34m=\u001b[0m \u001b[0mpickle\u001b[0m\u001b[0;34m.\u001b[0m\u001b[0mload\u001b[0m\u001b[0;34m(\u001b[0m\u001b[0mopen\u001b[0m\u001b[0;34m(\u001b[0m\u001b[0mFILENAME\u001b[0m \u001b[0;34m+\u001b[0m  \u001b[0;34m'result_new.pkl'\u001b[0m\u001b[0;34m,\u001b[0m \u001b[0;34m'rb'\u001b[0m\u001b[0;34m)\u001b[0m\u001b[0;34m)\u001b[0m\u001b[0;34m\u001b[0m\u001b[0m\n\u001b[1;32m      3\u001b[0m \u001b[0mmethod_names\u001b[0m \u001b[0;34m=\u001b[0m \u001b[0;34m[\u001b[0m\u001b[0;34m'STD    '\u001b[0m\u001b[0;34m,\u001b[0m  \u001b[0;34m'NN     '\u001b[0m\u001b[0;34m,\u001b[0m \u001b[0;34m'GPY    '\u001b[0m\u001b[0;34m,\u001b[0m \u001b[0;34m'GPY_PCA'\u001b[0m\u001b[0;34m,\u001b[0m  \u001b[0;34m'BGMR'\u001b[0m\u001b[0;34m,\u001b[0m\u001b[0;34m'BGMR_PCA'\u001b[0m\u001b[0;34m,\u001b[0m \u001b[0;34m'METRIC GPY_PCA'\u001b[0m\u001b[0;34m,\u001b[0m\u001b[0;34m'METRIC DIRECT'\u001b[0m\u001b[0;34m,\u001b[0m \u001b[0;34m'ensemble'\u001b[0m\u001b[0;34m]\u001b[0m\u001b[0;34m\u001b[0m\u001b[0m\n\u001b[0;32m----> 4\u001b[0;31m \u001b[0mprint_result\u001b[0m\u001b[0;34m(\u001b[0m\u001b[0mresults\u001b[0m\u001b[0;34m,\u001b[0m \u001b[0mmethod_names\u001b[0m\u001b[0;34m)\u001b[0m\u001b[0;34m\u001b[0m\u001b[0m\n\u001b[0m",
      "\u001b[0;32m/home/teguh/git/publications/memmo_for_trajopt_codes/notebooks/planning_util.pyc\u001b[0m in \u001b[0;36mprint_result\u001b[0;34m(results, method_names)\u001b[0m\n\u001b[1;32m    159\u001b[0m         \u001b[0mcomp_times\u001b[0m \u001b[0;34m=\u001b[0m \u001b[0mnp\u001b[0m\u001b[0;34m.\u001b[0m\u001b[0marray\u001b[0m\u001b[0;34m(\u001b[0m\u001b[0mresults\u001b[0m\u001b[0;34m[\u001b[0m\u001b[0mmethod\u001b[0m\u001b[0;34m]\u001b[0m\u001b[0;34m[\u001b[0m\u001b[0;34m'comp_times'\u001b[0m\u001b[0;34m]\u001b[0m\u001b[0;34m[\u001b[0m\u001b[0;34m:\u001b[0m\u001b[0;34m]\u001b[0m\u001b[0;34m)\u001b[0m\u001b[0;34m[\u001b[0m\u001b[0msuccesses\u001b[0m\u001b[0;34m]\u001b[0m\u001b[0;34m\u001b[0m\u001b[0m\n\u001b[1;32m    160\u001b[0m         \u001b[0mcosts\u001b[0m \u001b[0;34m=\u001b[0m \u001b[0mnp\u001b[0m\u001b[0;34m.\u001b[0m\u001b[0marray\u001b[0m\u001b[0;34m(\u001b[0m\u001b[0mresults\u001b[0m\u001b[0;34m[\u001b[0m\u001b[0mmethod\u001b[0m\u001b[0;34m]\u001b[0m\u001b[0;34m[\u001b[0m\u001b[0;34m'costs'\u001b[0m\u001b[0;34m]\u001b[0m\u001b[0;34m[\u001b[0m\u001b[0;34m:\u001b[0m\u001b[0;34m]\u001b[0m\u001b[0;34m)\u001b[0m\u001b[0;34m[\u001b[0m\u001b[0msuccesses\u001b[0m\u001b[0;34m]\u001b[0m\u001b[0;34m\u001b[0m\u001b[0m\n\u001b[0;32m--> 161\u001b[0;31m         \u001b[0mfunc_evals\u001b[0m \u001b[0;34m=\u001b[0m \u001b[0mnp\u001b[0m\u001b[0;34m.\u001b[0m\u001b[0marray\u001b[0m\u001b[0;34m(\u001b[0m\u001b[0mresults\u001b[0m\u001b[0;34m[\u001b[0m\u001b[0mmethod\u001b[0m\u001b[0;34m]\u001b[0m\u001b[0;34m[\u001b[0m\u001b[0;34m'func_evals'\u001b[0m\u001b[0;34m]\u001b[0m\u001b[0;34m[\u001b[0m\u001b[0;34m:\u001b[0m\u001b[0;34m]\u001b[0m\u001b[0;34m)\u001b[0m\u001b[0;34m[\u001b[0m\u001b[0msuccesses\u001b[0m\u001b[0;34m]\u001b[0m\u001b[0;34m\u001b[0m\u001b[0m\n\u001b[0m\u001b[1;32m    162\u001b[0m \u001b[0;34m\u001b[0m\u001b[0m\n\u001b[1;32m    163\u001b[0m         \u001b[0msuccess_mean\u001b[0m \u001b[0;34m=\u001b[0m \u001b[0msuccess\u001b[0m\u001b[0;34m*\u001b[0m\u001b[0;36m100.0\u001b[0m\u001b[0;34m/\u001b[0m\u001b[0mlen\u001b[0m\u001b[0;34m(\u001b[0m\u001b[0msuccesses\u001b[0m\u001b[0;34m)\u001b[0m\u001b[0;34m\u001b[0m\u001b[0m\n",
      "\u001b[0;31mIndexError\u001b[0m: index 0 is out of bounds for axis 1 with size 0"
     ]
    }
   ],
   "source": [
    "FILENAME = 'data/dual_arm_cartesian/'\n",
    "results = pickle.load(open(FILENAME +  'result_new.pkl', 'rb'))\n",
    "method_names = ['STD    ',  'NN     ', 'GPY    ', 'GPY_PCA',  'BGMR','BGMR_PCA', 'METRIC GPY_PCA','METRIC DIRECT', 'ensemble']\n",
    "print_result(results, method_names)"
   ]
  },
  {
   "cell_type": "markdown",
   "metadata": {},
   "source": [
    "## Whole-body Motion Planning (Fixed Init) "
   ]
  },
  {
   "cell_type": "code",
   "execution_count": 5,
   "metadata": {},
   "outputs": [],
   "source": [
    "FILENAME = 'data/atlas_planning/'\n",
    "results = pickle.load(open(FILENAME +  '1000_result2.pkl', 'rb'))"
   ]
  },
  {
   "cell_type": "code",
   "execution_count": null,
   "metadata": {},
   "outputs": [],
   "source": []
  }
 ],
 "metadata": {
  "kernelspec": {
   "display_name": "Python 2",
   "language": "python",
   "name": "python2"
  },
  "language_info": {
   "codemirror_mode": {
    "name": "ipython",
    "version": 2
   },
   "file_extension": ".py",
   "mimetype": "text/x-python",
   "name": "python",
   "nbconvert_exporter": "python",
   "pygments_lexer": "ipython2",
   "version": "2.7.12"
  }
 },
 "nbformat": 4,
 "nbformat_minor": 2
}
