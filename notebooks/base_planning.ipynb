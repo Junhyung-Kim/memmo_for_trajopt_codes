{
 "cells": [
  {
   "cell_type": "markdown",
   "metadata": {},
   "source": [
    "### Importing libraries"
   ]
  },
  {
   "cell_type": "code",
   "execution_count": null,
   "metadata": {
    "scrolled": true
   },
   "outputs": [],
   "source": [
    "import openravepy\n",
    "import trajoptpy\n",
    "import json\n",
    "import numpy as np\n",
    "import trajoptpy.kin_utils as ku\n",
    "from trajoptpy.check_traj import traj_is_safe\n",
    "import time\n",
    "import random \n",
    "import matplotlib.pyplot as plt\n",
    "import pickle\n",
    "from trajopt_util import *\n",
    "from planning_util import *\n",
    "from regression import *\n",
    "%matplotlib inline\n",
    "%load_ext autoreload\n",
    "%autoreload 2\n",
    "\n",
    "FILENAME = 'data/base_planning/'"
   ]
  },
  {
   "cell_type": "markdown",
   "metadata": {},
   "source": [
    "### Setting the trajopt"
   ]
  },
  {
   "cell_type": "code",
   "execution_count": null,
   "metadata": {},
   "outputs": [],
   "source": [
    "np.set_printoptions(precision=4, suppress=True)\n",
    "\n",
    "env = openravepy.Environment()\n",
    "env.StopSimulation()\n",
    "env.Load(\"robots/pr2-beta-static.zae\")\n",
    "env.Load(\"../env/kitchen_counter.env.xml\")\n",
    "env.SetDefaultViewer()"
   ]
  },
  {
   "cell_type": "markdown",
   "metadata": {},
   "source": [
    "### Setting the robot"
   ]
  },
  {
   "cell_type": "code",
   "execution_count": null,
   "metadata": {},
   "outputs": [],
   "source": [
    "robot = env.GetRobots()[0]\n",
    "robot.SetTransform(np.array([[1.   ,0 ,  0.   ,  -0.25 ],\n",
    "                             [ 0, 1.   ,  0.   ,  1.2],\n",
    "                             [ 0.   ,  0.   ,  1.   ,  0.   ],\n",
    "                             [ 0.   ,  0.   ,  0.   ,  1.   ]]))\n",
    "\n",
    "leftarm_torso = robot.GetManipulator(\"leftarm_torso\")\n",
    "robot.SetDOFValues(np.array([0.261 , 0.5646,  1.1371, -0.65  , -2.1172,  2.0552, 0.99, -2.168 ]), \\\n",
    "                   leftarm_torso.GetArmIndices())\n",
    "\n",
    "DOF = openravepy.DOFAffine   \n",
    "robot.SetActiveDOFs([],DOF.X | DOF.Y | DOF.RotationAxis)\n",
    "   \n",
    "base_init = robot.GetActiveDOFValues()\n",
    "base_target = base_init.copy()\n",
    "base_target[1] -= 0.5\n",
    "n_steps = 30\n",
    "dof = len(base_init)\n",
    "coeffs = [1., 1., 1.]\n",
    "\n",
    "waypoint_left = np.array([0.7, 3,0])  \n",
    "waypoint_right = np.array([0.7, -2.5,0])  "
   ]
  },
  {
   "cell_type": "code",
   "execution_count": null,
   "metadata": {},
   "outputs": [],
   "source": [
    "def generate_random_between(limit1, limit2):\n",
    "    n = len(limit1)\n",
    "    config = None\n",
    "    while config is None:\n",
    "        config = np.random.rand(n)\n",
    "        config = np.multiply(config, limit2-limit1) + limit1\n",
    "        robot.SetActiveDOFValues(config)\n",
    "        if env.CheckCollision(robot) is True:\n",
    "            continue\n",
    "    return config"
   ]
  },
  {
   "cell_type": "markdown",
   "metadata": {},
   "source": [
    "### Construct a random problem "
   ]
  },
  {
   "cell_type": "code",
   "execution_count": null,
   "metadata": {},
   "outputs": [],
   "source": [
    "#setting the limit for base placements\n",
    "init_limit1 = np.array([-1.25, -0.8, -np.pi])\n",
    "init_limit2 = np.array([-0.25, 1.5, np.pi])\n",
    "\n",
    "goal_limit1 = np.array([2.2, -0.8, -np.pi])\n",
    "goal_limit2 = np.array([3.5, 1.5, np.pi])"
   ]
  },
  {
   "cell_type": "raw",
   "metadata": {
    "scrolled": false
   },
   "source": [
    "for i in range(10):\n",
    "    config = generate_random_between(goal_limit1, goal_limit2)\n",
    "    robot.SetActiveDOFValues(config)\n",
    "    raw_input()"
   ]
  },
  {
   "cell_type": "markdown",
   "metadata": {},
   "source": [
    "### Build / Retrieve Dataset"
   ]
  },
  {
   "cell_type": "code",
   "execution_count": null,
   "metadata": {},
   "outputs": [],
   "source": [
    "def build_database(x_init, y_init, num_traj, limits, n_steps = 30, predictor=None):\n",
    "    num_plan = 0\n",
    "    comp_times = []\n",
    "    costs = []\n",
    "\n",
    "    tic = time.time()\n",
    "    while len(x_init) < num_traj:\n",
    "        print('{}th Planning, {} trajectories in database'.format(num_plan,len(x_init)))\n",
    "        #Get a random pose as target\n",
    "        init_joint = generate_random_between(limits['init'][0], limits['init'][1])\n",
    "        target_joint = generate_random_between(limits['goal'][0], limits['goal'][1])\n",
    "        robot.SetActiveDOFValues(init_joint)\n",
    "        \n",
    "        #Build memory using a set of predictors\n",
    "        for func in predictor:\n",
    "            #Predict the warmstart\n",
    "            for waypoint in [waypoint_right,waypoint_left]:\n",
    "                x_cur = np.concatenate([init_joint,target_joint])[None,:]\n",
    "\n",
    "                if isinstance(func, Straight_Regressor):\n",
    "                    traj,_ = func.predict_with_waypoint(init_joint, target_joint, waypoint, n_steps/2)     \n",
    "                else:\n",
    "                    traj,_ = func.predict(x_cur)\n",
    "                traj = traj.reshape(-1,dof)\n",
    "                traj[0,:] = init_joint\n",
    "\n",
    "                #Plan\n",
    "                robot.SetActiveDOFValues(init_joint)\n",
    "                request_traj = define_request(time_step=n_steps, coeffs = coeffs,init_type='given_traj',constraint_type='joint')\n",
    "                request_traj = add_constraint(request_traj, 'joint', '', target_joint,-1)\n",
    "                request_traj = set_init(request_traj, 'given_traj', traj)\n",
    "                duration, result = run_opt(request_traj, env)    \n",
    "\n",
    "                #Check traj result\n",
    "                traj = result.GetTraj()\n",
    "                if check_traj(env,result, target_joint):\n",
    "                    print 'Planning is successfull!'\n",
    "                    x_init.append(np.concatenate(x_cur))\n",
    "                    y_init.append(traj.flatten())\n",
    "                    comp_times.append(duration)\n",
    "                    costs.append(result.GetCosts()[0][1])\n",
    "                else:\n",
    "                    print('Fail to find good solution!')     \n",
    "                    \n",
    "                num_plan += 1\n",
    "        \n",
    "    \n",
    "    #Store the result\n",
    "    toc = time.time()\n",
    "    total_time = toc-tic\n",
    "    success_rate = num_traj*1.0/num_plan\n",
    "    x_init = np.vstack(x_init)\n",
    "    y_init = np.vstack(y_init)\n",
    "    \n",
    "    data = dict()\n",
    "    data['x'] = x_init\n",
    "    data['y'] = y_init\n",
    "    data['total_time'] = total_time\n",
    "    data['success_rate'] = success_rate\n",
    "    data['comp_times'] = comp_times\n",
    "    data['costs'] = costs\n",
    "    return data"
   ]
  },
  {
   "cell_type": "code",
   "execution_count": null,
   "metadata": {},
   "outputs": [],
   "source": [
    "to_build_database = False\n",
    "to_augment_database = False\n",
    "num_traj = 20\n",
    "n_steps = 30\n",
    "limits = dict()\n",
    "limits['init'] = [init_limit1, init_limit2]\n",
    "limits['goal'] = [goal_limit1, goal_limit2]\n",
    "\n",
    "#build using straight-line warm-start\n",
    "straight = Straight_Regressor(dof = dof, n_steps = n_steps)\n",
    "\n",
    "if to_build_database:\n",
    "    if to_augment_database:\n",
    "        #load data\n",
    "        data = pickle.load( open(FILENAME + 'data.pkl', 'rb'))\n",
    "        x_init = list(data['x'])\n",
    "        y_init = list(data['y'])\n",
    "        num_traj += len(x_init)     \n",
    "    else:\n",
    "        x_init,y_init = [],[]\n",
    "        \n",
    "    data = build_database(x_init, y_init, num_traj,limits, n_steps = n_steps, predictor=[straight])\n",
    "    x_init = data['x']\n",
    "    y_init = data['y']\n",
    "    pickle.dump(data,open(FILENAME + 'data.pkl', 'wb') )\n",
    "    print('Success_rate : {}, average costs:{}'.format(data['success_rate'], np.mean(data['costs'])))\n",
    "else:\n",
    "    #load data\n",
    "    data = pickle.load( open(FILENAME + 'data.pkl', 'rb'))\n",
    "    x_init = data['x']\n",
    "    y_init = data['y']\n",
    "    num_traj = len(x_init)"
   ]
  },
  {
   "cell_type": "markdown",
   "metadata": {},
   "source": [
    "### Reduce the data sample"
   ]
  },
  {
   "cell_type": "code",
   "execution_count": null,
   "metadata": {},
   "outputs": [],
   "source": [
    "#if necessary, reduce the size of database\n",
    "x_init = x_init[0:200]\n",
    "y_init = y_init[0:200]"
   ]
  },
  {
   "cell_type": "markdown",
   "metadata": {},
   "source": [
    "### Check Database "
   ]
  },
  {
   "cell_type": "raw",
   "metadata": {},
   "source": [
    "for i in range(5):\n",
    "    index = np.random.randint(0,len(y_init))\n",
    "    traj = y_init[index:index+1]\n",
    "    traj = traj.reshape(-1,dof)\n",
    "    plot_traj(env,traj)"
   ]
  },
  {
   "cell_type": "markdown",
   "metadata": {},
   "source": [
    "### Build Function Approximator"
   ]
  },
  {
   "cell_type": "code",
   "execution_count": null,
   "metadata": {},
   "outputs": [],
   "source": [
    "dim_input = len(x_init[0])\n",
    "is_load_regressor = False\n",
    "\n",
    "straight = Straight_Regressor(dof = dof, n_steps=n_steps)\n",
    "nn = NN_Regressor()\n",
    "gpy = GPy_Regressor(dim_input = dim_input)\n",
    "bgmr = DP_GLM_Regressor()\n",
    "\n",
    "if is_load_regressor:\n",
    "    nn.load_from_file(FILENAME + 'nn')\n",
    "    gpy.load_from_file(FILENAME + 'gpy')\n",
    "    bgmr.load_from_file(FILENAME + 'bgmr')\n",
    "else:\n",
    "    print 'Planning for NN'\n",
    "    nn.fit(x_init, y_init)\n",
    "    nn.save_to_file(FILENAME + 'nn')\n",
    "\n",
    "    print 'Planning for GPY'\n",
    "    gpy.fit(x_init, y_init, num_restarts=10)\n",
    "    gpy.save_to_file(FILENAME + 'gpy')\n",
    "    \n",
    "    print 'Planning for BGMR'\n",
    "    bgmr.fit(x_init,y_init)\n",
    "    bgmr.save_to_file(FILENAME + 'bgmr')"
   ]
  },
  {
   "cell_type": "markdown",
   "metadata": {
    "scrolled": true
   },
   "source": [
    "### Creating the test cases"
   ]
  },
  {
   "cell_type": "code",
   "execution_count": null,
   "metadata": {
    "scrolled": true
   },
   "outputs": [],
   "source": [
    "create_test = False\n",
    "if create_test:\n",
    "    x_test = []\n",
    "    target_joints = []\n",
    "    num_test = 1000\n",
    "    for i in range(num_test):\n",
    "        init_joint = generate_random_between(limits['init'][0], limits['init'][1])\n",
    "        target_joint = generate_random_between(limits['goal'][0], limits['goal'][1])\n",
    "        x_test.append(np.concatenate([init_joint, target_joint]))\n",
    "\n",
    "    x_test = np.vstack(x_test)\n",
    "    data_test = dict()\n",
    "    data_test['x_test'] = x_test\n",
    "    test_file = open(FILENAME + 'data_test.pkl', 'wb')\n",
    "    pickle.dump(data_test,test_file)\n",
    "    test_file.close()\n",
    "else:\n",
    "    #load data\n",
    "    test_file = open(FILENAME + 'data_test.pkl', 'rb')\n",
    "    data_test = pickle.load(test_file)\n",
    "    x_test = data_test['x_test']\n",
    "    num_test = len(x_test)\n",
    "    test_file.close()"
   ]
  },
  {
   "cell_type": "markdown",
   "metadata": {},
   "source": [
    "### Testing the warmstart"
   ]
  },
  {
   "cell_type": "code",
   "execution_count": null,
   "metadata": {
    "scrolled": true
   },
   "outputs": [],
   "source": [
    "method_names = ['STD    ', 'NN     ', 'GPY    ',  'BGMR    ']\n",
    "methods = [straight, nn, gpy,  bgmr]\n",
    "results = dict()\n",
    "result,success, duration = dict(),dict(),dict()\n",
    "for method in method_names:\n",
    "    results[method] = dict()\n",
    "    results[method]['costs'] = []\n",
    "    results[method]['successes'] = []\n",
    "    results[method]['comp_times'] = []\n",
    "    results[method]['func_evals'] = []\n",
    "    results[method]['qp_solves'] = []\n",
    "    \n",
    "num_test = 20\n",
    "for i in range(num_test):\n",
    "    print('{}th Planning'.format(i))\n",
    "    \n",
    "    #setting up the problem case\n",
    "    index = np.random.randint(0,len(x_test))\n",
    "    index = i\n",
    "    x_cur = x_test[index:index+1,:]\n",
    "    init_joint = x_cur.copy().flatten()[0:3]\n",
    "    target_joint = x_cur.copy().flatten()[3:]\n",
    "    robot.SetActiveDOFValues(init_joint)\n",
    "    \n",
    "    #plan with various warmstarts\n",
    "    request_traj = define_request(time_step=n_steps, coeffs = coeffs,init_type='given_traj',constraint_type='joint')\n",
    "    request_traj = add_constraint(request_traj, 'joint', '', target_joint,-1)\n",
    "    \n",
    "    for i,method in enumerate(methods):\n",
    "        method_name = method_names[i]\n",
    "        if isinstance(method, Straight_Regressor):\n",
    "            traj,cov = method.predict_with_waypoint(init_joint, target_joint, waypoint_right, n_steps/2)\n",
    "        else:\n",
    "            traj,cov = method.predict(x_cur)\n",
    "            \n",
    "        if method.is_transform == 'PCA':\n",
    "            traj = y_pca.inverse_transform(traj)\n",
    "            \n",
    "        traj = traj.reshape(-1,dof)\n",
    "        traj[0,:] = init_joint\n",
    "        robot.SetActiveDOFValues(init_joint)\n",
    "        request_traj = set_init(request_traj, 'given_traj', traj)\n",
    "        duration[method_name], result[method_name] = run_opt(request_traj, env)    \n",
    "        success[method_name] = check_traj(env,result[method_name], target_joint)\n",
    "\n",
    "    #Record the result\n",
    "    for method_name in method_names:\n",
    "        results[method_name]['costs'].append(result[method_name].GetCosts()[0][1])\n",
    "        results[method_name]['func_evals'].append(result[method_name].GetNumFuncEval()[0])\n",
    "        results[method_name]['qp_solves'].append(result[method_name].GetNumQPSolve()[0])\n",
    "        results[method_name]['successes'].append(success[method_name])      \n",
    "        results[method_name]['comp_times'].append(duration[method_name])\n"
   ]
  },
  {
   "cell_type": "markdown",
   "metadata": {},
   "source": [
    "### Printing Results"
   ]
  },
  {
   "cell_type": "code",
   "execution_count": null,
   "metadata": {
    "scrolled": true
   },
   "outputs": [],
   "source": [
    "print(' Method \\t| Success Rate \\t| Conv. Time \\t| Traj. Cost \\t| Func. Evals \\t| QP Solves')\n",
    "for method in method_names:\n",
    "    successes = np.array(results[method]['successes'])\n",
    "    success = np.count_nonzero(successes)\n",
    "    \n",
    "    comp_times = np.array(results[method]['comp_times'])[successes]\n",
    "    costs = np.array(results[method]['costs'])[successes]\n",
    "    func_evals = np.array(results[method]['func_evals'])[successes]\n",
    "    qp_solves = np.array(results[method]['qp_solves'])[successes]\n",
    "    \n",
    "    print('{0} \\t& {1:.3f} \\t& {2:.2f} \\t& {3:.3f} \\t \\\\\\\\'.format(method, success*100.0/len(successes), np.sum(comp_times)/success, np.sum(costs)/success))#, 1.0*np.sum(func_evals)/success, 1.0*np.sum(qp_solves)/success ))\n",
    "    "
   ]
  },
  {
   "cell_type": "markdown",
   "metadata": {},
   "source": [
    "### Printing Results Tied to Standard Success"
   ]
  },
  {
   "cell_type": "code",
   "execution_count": null,
   "metadata": {
    "scrolled": true
   },
   "outputs": [],
   "source": [
    "print(' Method \\t| Success Rate \\t| Conv. Time \\t| Traj. Cost \\t| Func. Evals \\t| QP Solves')\n",
    "standard_successes = np.array(results['STD    ']['successes'])\n",
    "\n",
    "for method in method_names:\n",
    "    successes = np.array(results[method]['successes'])[standard_successes]\n",
    "    success = np.count_nonzero(successes)\n",
    "    comp_times = np.array(results[method]['comp_times'])[standard_successes][successes]\n",
    "    costs = np.array(results[method]['costs'])[standard_successes][successes]\n",
    "    func_evals = np.array(results[method]['func_evals'])[standard_successes][successes]\n",
    "    qp_solves = np.array(results[method]['qp_solves'])[standard_successes][successes]\n",
    "    \n",
    "    print('{0}: \\t {1:.3f} \\t {2:.2f} \\t {3:.3f} \\t {4:.3f} \\t {5:.3f}'.format(method, success*1.0/len(successes), np.sum(comp_times)/success, np.sum(costs)/success, 1.0*np.sum(func_evals)/success, 1.0*np.sum(qp_solves)/success ))\n",
    "    "
   ]
  }
 ],
 "metadata": {
  "kernelspec": {
   "display_name": "Python 2",
   "language": "python",
   "name": "python2"
  },
  "language_info": {
   "codemirror_mode": {
    "name": "ipython",
    "version": 2
   },
   "file_extension": ".py",
   "mimetype": "text/x-python",
   "name": "python",
   "nbconvert_exporter": "python",
   "pygments_lexer": "ipython2",
   "version": "2.7.12"
  }
 },
 "nbformat": 4,
 "nbformat_minor": 2
}
