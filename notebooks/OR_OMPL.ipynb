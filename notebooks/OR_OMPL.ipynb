{
 "cells": [
  {
   "cell_type": "code",
   "execution_count": 32,
   "metadata": {},
   "outputs": [
    {
     "data": {
      "text/plain": [
       "True"
      ]
     },
     "execution_count": 32,
     "metadata": {},
     "output_type": "execute_result"
    }
   ],
   "source": [
    "#!//bin/env python\n",
    "# This script requires the models that are shipped with OpenRAVE to be in your\n",
    "# OPENRAVE_DATA path. This is true by default, but may not be true if you set\n",
    "# your OPENRAVE_DATA environmental variable. Notably, this includes if you\n",
    "# source a Catkin workspace that includes the openrave_catkin package.\n",
    "#\n",
    "# If so, you should explicitly add this directory to your path:\n",
    "#\n",
    "#    export OPENRAVE_DATA=\"${OPENRAVE_DATA}:/usr/share/openrave-0.9/data\"\n",
    "#\n",
    "# This path assumes that you installed OpenRAVE to /usr. You may need to alter\n",
    "# the command to match your acutal install destination.\n",
    "\n",
    "from openravepy import *\n",
    "\n",
    "start_config = [  0.80487864,  0.42326865, -0.54016693,  2.28895761,\n",
    "                 -0.34930645, -1.19702164,  1.95971213 ]\n",
    "goal_config  = [  2.41349473, -1.43062044, -2.69016693,  2.12681216,\n",
    "                 -0.75643783, -1.52392537,  1.01239878 ]\n",
    "\n",
    "# Setup the environment.\n",
    "env = Environment()\n",
    "env.SetViewer('qtcoin')"
   ]
  },
  {
   "cell_type": "code",
   "execution_count": 33,
   "metadata": {},
   "outputs": [],
   "source": [
    "env.Load('wamtest1.env.xml')\n",
    "robot = env.GetRobot('BarrettWAM')\n",
    "manipulator = robot.GetManipulator('arm')"
   ]
  },
  {
   "cell_type": "code",
   "execution_count": 74,
   "metadata": {},
   "outputs": [
    {
     "name": "stdout",
     "output_type": "stream",
     "text": [
      "Parameters:\n",
      "max_nearest_neighbors (8:1000)\n",
      "\n",
      "Calling the OMPL_RRTConnect planner.\n",
      "Calling the OMPL_Simplifier for shortcutting.\n",
      "Timing trajectory\n"
     ]
    },
    {
     "name": "stdin",
     "output_type": "stream",
     "text": [
      "Press <ENTER> to execute trajectory. \n"
     ]
    },
    {
     "data": {
      "text/plain": [
       "''"
      ]
     },
     "execution_count": 74,
     "metadata": {},
     "output_type": "execute_result"
    }
   ],
   "source": [
    "planner = RaveCreatePlanner(env, 'OMPL_PRM')\n",
    "simplifier = RaveCreatePlanner(env, 'OMPL_Simplifier')\n",
    "\n",
    "with env:\n",
    "    robot.SetActiveDOFs(manipulator.GetArmIndices())\n",
    "    robot.SetActiveDOFValues(start_config)\n",
    "    robot.SetActiveManipulator(manipulator)\n",
    "\n",
    "# Setup the planning instance.\n",
    "params = Planner.PlannerParameters()\n",
    "params.SetRobotActiveJoints(robot)\n",
    "params.SetGoalConfig(goal_config)\n",
    "\n",
    "# Set the timeout and planner-specific parameters. You can view a list of\n",
    "# supported parameters by calling: planner.SendCommand('GetParameters')\n",
    "print 'Parameters:'\n",
    "print planner.SendCommand('GetParameters')\n",
    "\n",
    "#params.SetExtraParameters('<range>0.02</range>')\n",
    "\n",
    "with env:\n",
    "    with robot:\n",
    "        # Invoke the planner.\n",
    "        print 'Calling the OMPL_RRTConnect planner.'\n",
    "        traj = RaveCreateTrajectory(env, '')\n",
    "        planner.InitPlan(robot, params)\n",
    "        result = planner.PlanPath(traj)\n",
    "        assert result == PlannerStatus.HasSolution\n",
    "\n",
    "        # Shortcut the path.\n",
    "        print 'Calling the OMPL_Simplifier for shortcutting.'\n",
    "        simplifier.InitPlan(robot, Planner.PlannerParameters())\n",
    "        result = simplifier.PlanPath(traj)\n",
    "        assert result == PlannerStatus.HasSolution\n",
    "\n",
    "        # Time the trajectory.\n",
    "        print 'Timing trajectory'\n",
    "        result = planningutils.RetimeTrajectory(traj)\n",
    "        assert result == PlannerStatus.HasSolution\n",
    "\n",
    "# Execute the trajectory.\n",
    "raw_input('Press <ENTER> to execute trajectory.')"
   ]
  },
  {
   "cell_type": "code",
   "execution_count": 75,
   "metadata": {},
   "outputs": [
    {
     "data": {
      "text/plain": [
       "True"
      ]
     },
     "execution_count": 75,
     "metadata": {},
     "output_type": "execute_result"
    }
   ],
   "source": [
    "robot.GetController().SetPath(traj)\n",
    "robot.WaitForController(0)"
   ]
  },
  {
   "cell_type": "code",
   "execution_count": 76,
   "metadata": {},
   "outputs": [],
   "source": [
    "cur_traj = traj.GetAllWaypoints2D()\n",
    "for t in cur_traj:\n",
    "    robot.SetActiveDOFValues(t[:7])\n",
    "    time.sleep(0.1)"
   ]
  }
 ],
 "metadata": {
  "kernelspec": {
   "display_name": "Python 2",
   "language": "python",
   "name": "python2"
  },
  "language_info": {
   "codemirror_mode": {
    "name": "ipython",
    "version": 2
   },
   "file_extension": ".py",
   "mimetype": "text/x-python",
   "name": "python",
   "nbconvert_exporter": "python",
   "pygments_lexer": "ipython2",
   "version": "2.7.12"
  }
 },
 "nbformat": 4,
 "nbformat_minor": 2
}
