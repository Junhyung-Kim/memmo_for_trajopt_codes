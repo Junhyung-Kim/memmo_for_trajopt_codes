{
 "cells": [
  {
   "cell_type": "markdown",
   "metadata": {},
   "source": [
    "### Importing libraries"
   ]
  },
  {
   "cell_type": "code",
   "execution_count": 1,
   "metadata": {
    "scrolled": true
   },
   "outputs": [
    {
     "name": "stderr",
     "output_type": "stream",
     "text": [
      "/home/teguh/.local/lib/python2.7/site-packages/h5py/__init__.py:36: RuntimeWarning: numpy.dtype size changed, may indicate binary incompatibility. Expected 96, got 88\n",
      "  from ._conv import register_converters as _register_converters\n",
      "/home/teguh/.local/lib/python2.7/site-packages/h5py/__init__.py:45: RuntimeWarning: numpy.dtype size changed, may indicate binary incompatibility. Expected 96, got 88\n",
      "  from . import h5a, h5d, h5ds, h5f, h5fd, h5g, h5r, h5s, h5t, h5p, h5z\n",
      "/home/teguh/.local/lib/python2.7/site-packages/h5py/_hl/group.py:22: RuntimeWarning: numpy.dtype size changed, may indicate binary incompatibility. Expected 96, got 88\n",
      "  from .. import h5g, h5i, h5o, h5r, h5t, h5l, h5p\n",
      " /home/teguh/.local/lib/python2.7/site-packages/sklearn/utils/__init__.py:9: RuntimeWarning:numpy.dtype size changed, may indicate binary incompatibility. Expected 96, got 88\n",
      " /home/teguh/.local/lib/python2.7/site-packages/sklearn/utils/extmath.py:24: RuntimeWarning:numpy.dtype size changed, may indicate binary incompatibility. Expected 96, got 88\n",
      " /home/teguh/.local/lib/python2.7/site-packages/sklearn/utils/extmath.py:26: RuntimeWarning:numpy.dtype size changed, may indicate binary incompatibility. Expected 96, got 88\n",
      " /home/teguh/.local/lib/python2.7/site-packages/sklearn/metrics/cluster/supervised.py:23: RuntimeWarning:numpy.dtype size changed, may indicate binary incompatibility. Expected 96, got 88\n",
      " /home/teguh/.local/lib/python2.7/site-packages/sklearn/metrics/pairwise.py:30: RuntimeWarning:numpy.dtype size changed, may indicate binary incompatibility. Expected 96, got 88\n",
      " /home/teguh/.local/lib/python2.7/site-packages/sklearn/neighbors/__init__.py:6: RuntimeWarning:numpy.dtype size changed, may indicate binary incompatibility. Expected 96, got 88\n",
      " /home/teguh/.local/lib/python2.7/site-packages/sklearn/neighbors/__init__.py:7: RuntimeWarning:numpy.dtype size changed, may indicate binary incompatibility. Expected 96, got 88\n",
      " /home/teguh/.local/lib/python2.7/site-packages/sklearn/utils/random.py:10: RuntimeWarning:numpy.dtype size changed, may indicate binary incompatibility. Expected 96, got 88\n",
      " /home/teguh/.local/lib/python2.7/site-packages/sklearn/utils/graph.py:15: RuntimeWarning:numpy.dtype size changed, may indicate binary incompatibility. Expected 96, got 88\n",
      " /home/teguh/.local/lib/python2.7/site-packages/sklearn/linear_model/base.py:35: RuntimeWarning:numpy.dtype size changed, may indicate binary incompatibility. Expected 96, got 88\n",
      " /home/teguh/.local/lib/python2.7/site-packages/sklearn/linear_model/least_angle.py:23: RuntimeWarning:numpy.dtype size changed, may indicate binary incompatibility. Expected 96, got 88\n",
      " /home/teguh/.local/lib/python2.7/site-packages/sklearn/linear_model/coordinate_descent.py:29: RuntimeWarning:numpy.dtype size changed, may indicate binary incompatibility. Expected 96, got 88\n",
      " /home/teguh/.local/lib/python2.7/site-packages/sklearn/linear_model/__init__.py:22: RuntimeWarning:numpy.dtype size changed, may indicate binary incompatibility. Expected 96, got 88\n",
      " /home/teguh/.local/lib/python2.7/site-packages/sklearn/linear_model/sag.py:12: RuntimeWarning:numpy.dtype size changed, may indicate binary incompatibility. Expected 96, got 88\n",
      " /home/teguh/.local/lib/python2.7/site-packages/sklearn/svm/base.py:8: RuntimeWarning:numpy.dtype size changed, may indicate binary incompatibility. Expected 96, got 88\n",
      " /home/teguh/.local/lib/python2.7/site-packages/sklearn/svm/base.py:9: RuntimeWarning:numpy.dtype size changed, may indicate binary incompatibility. Expected 96, got 88\n",
      " /home/teguh/.local/lib/python2.7/site-packages/sklearn/decomposition/online_lda.py:28: RuntimeWarning:numpy.dtype size changed, may indicate binary incompatibility. Expected 96, got 88\n",
      " /home/teguh/.local/lib/python2.7/site-packages/sklearn/isotonic.py:12: RuntimeWarning:numpy.dtype size changed, may indicate binary incompatibility. Expected 96, got 88\n",
      " /home/teguh/.local/lib/python2.7/site-packages/sklearn/manifold/t_sne.py:24: RuntimeWarning:numpy.dtype size changed, may indicate binary incompatibility. Expected 96, got 88\n",
      " /home/teguh/.local/lib/python2.7/site-packages/sklearn/manifold/t_sne.py:25: RuntimeWarning:numpy.dtype size changed, may indicate binary incompatibility. Expected 96, got 88\n",
      " /home/teguh/.local/lib/python2.7/site-packages/sklearn/tree/tree.py:40: RuntimeWarning:numpy.dtype size changed, may indicate binary incompatibility. Expected 96, got 88\n",
      " /home/teguh/.local/lib/python2.7/site-packages/sklearn/cluster/k_means_.py:35: RuntimeWarning:numpy.dtype size changed, may indicate binary incompatibility. Expected 96, got 88\n",
      " /home/teguh/.local/lib/python2.7/site-packages/sklearn/cluster/k_means_.py:36: RuntimeWarning:numpy.dtype size changed, may indicate binary incompatibility. Expected 96, got 88\n",
      " /home/teguh/.local/lib/python2.7/site-packages/sklearn/cluster/hierarchical.py:23: RuntimeWarning:numpy.dtype size changed, may indicate binary incompatibility. Expected 96, got 88\n",
      " /home/teguh/.local/lib/python2.7/site-packages/sklearn/cluster/dbscan_.py:19: RuntimeWarning:numpy.dtype size changed, may indicate binary incompatibility. Expected 96, got 88\n"
     ]
    }
   ],
   "source": [
    "import openravepy\n",
    "import trajoptpy\n",
    "import json\n",
    "import numpy as np\n",
    "import trajoptpy.kin_utils as ku\n",
    "from trajoptpy.check_traj import traj_is_safe\n",
    "import time\n",
    "import random \n",
    "import matplotlib.pyplot as plt\n",
    "import pickle\n",
    "from trajopt_util import *\n",
    "from planning_util import *\n",
    "from regression import *\n",
    "%matplotlib inline\n",
    "%load_ext autoreload\n",
    "%autoreload 2\n",
    "\n",
    "FILENAME = 'data/dual_arm_fixed_init/'"
   ]
  },
  {
   "cell_type": "markdown",
   "metadata": {},
   "source": [
    "### Setting the trajopt"
   ]
  },
  {
   "cell_type": "code",
   "execution_count": 3,
   "metadata": {},
   "outputs": [],
   "source": [
    "np.set_printoptions(precision=4, suppress=True)\n",
    "\n",
    "env = openravepy.Environment()\n",
    "env.StopSimulation()\n",
    "env.Load(\"robots/pr2-beta-static.zae\")\n",
    "#"
   ]
  },
  {
   "cell_type": "code",
   "execution_count": 69,
   "metadata": {},
   "outputs": [
    {
     "data": {
      "text/plain": [
       "True"
      ]
     },
     "execution_count": 69,
     "metadata": {},
     "output_type": "execute_result"
    }
   ],
   "source": [
    "env.Load(\"../env/bookshelves.env.xml\")\n",
    "#env.SetDefaultViewer()"
   ]
  },
  {
   "cell_type": "markdown",
   "metadata": {},
   "source": [
    "### Setting the robot"
   ]
  },
  {
   "cell_type": "code",
   "execution_count": 70,
   "metadata": {},
   "outputs": [],
   "source": [
    "robot = env.GetRobots()[0]\n",
    "left_arm = robot.GetManipulator(\"leftarm\")\n",
    "right_arm = robot.GetManipulator(\"rightarm\")\n",
    "\n",
    "robot.SetActiveDOFs(np.r_[right_arm.GetArmIndices(), left_arm.GetArmIndices()])\n",
    "coeffs = [1,1,1,1,1,1,1,  1,1,1,1,1,1,1,] #coefficients for joint velocity cost\n",
    "\n",
    "dof = len(robot.GetActiveDOFValues())\n",
    "left_dof_away = np.array([ 0.5646,  1.1371, -0.65  , -2.1172,  2.0552, 0.99, -2.168 ])\n",
    "right_dof_away = np.array([ -0.5646,  1.1371, 0.65  , -2.1172,  2.0552, 0.99, -2.168 ])\n",
    "robot.SetDOFValues(left_dof_away, left_arm.GetArmIndices())\n",
    "robot.SetDOFValues(right_dof_away, right_arm.GetArmIndices())\n",
    "init_joint0 = robot.GetActiveDOFValues()"
   ]
  },
  {
   "cell_type": "code",
   "execution_count": 71,
   "metadata": {},
   "outputs": [],
   "source": [
    "from openravepy import *\n",
    "planner = RaveCreatePlanner(env, 'OMPL_RRT')\n",
    "simplifier = RaveCreatePlanner(env, 'OMPL_Simplifier')\n",
    "\n",
    "# Setup the planning instance.\n",
    "params = Planner.PlannerParameters()\n",
    "params.SetRobotActiveJoints(robot)"
   ]
  },
  {
   "cell_type": "code",
   "execution_count": 82,
   "metadata": {},
   "outputs": [],
   "source": [
    "robot.SetActiveDOFs(np.r_[right_arm.GetArmIndices()])"
   ]
  },
  {
   "cell_type": "code",
   "execution_count": 83,
   "metadata": {},
   "outputs": [
    {
     "name": "stdout",
     "output_type": "stream",
     "text": [
      "[-1.3955  0.908   0.0103 -0.3979 -1.5615 -0.7265  0.8617]\n"
     ]
    }
   ],
   "source": [
    "cur_joints = robot.GetActiveDOFValues()\n",
    "print cur_joints"
   ]
  },
  {
   "cell_type": "code",
   "execution_count": 84,
   "metadata": {},
   "outputs": [],
   "source": [
    "limits = dict()\n",
    "limits[0] = [[0.47, 0.8],[-0.5, 0.5],[0.3,1.4]]"
   ]
  },
  {
   "cell_type": "code",
   "execution_count": 89,
   "metadata": {},
   "outputs": [
    {
     "data": {
      "text/plain": [
       "array([-1.0006,  1.2477, -1.4897, -1.2559,  1.3275, -0.4728, -0.9384])"
      ]
     },
     "execution_count": 89,
     "metadata": {},
     "output_type": "execute_result"
    }
   ],
   "source": [
    "goal_joints"
   ]
  },
  {
   "cell_type": "code",
   "execution_count": 93,
   "metadata": {},
   "outputs": [
    {
     "name": "stdout",
     "output_type": "stream",
     "text": [
      "False\n"
     ]
    }
   ],
   "source": [
    "goal_joints,_,_,_,_ = get_random_pose_both(env,limits,right_arm, left_arm)\n",
    "\n",
    "#goal_joints = cur_joints + np.random.rand(len(cur_joints))*0.4\n",
    "robot.SetActiveDOFValues(goal_joints)\n",
    "print robot.CheckSelfCollision()"
   ]
  },
  {
   "cell_type": "code",
   "execution_count": 94,
   "metadata": {},
   "outputs": [
    {
     "name": "stdout",
     "output_type": "stream",
     "text": [
      "goal_bias (0.:.05:1.)\n",
      "range (0.:1.:10000.)\n",
      "\n"
     ]
    },
    {
     "data": {
      "text/plain": [
       "True"
      ]
     },
     "execution_count": 94,
     "metadata": {},
     "output_type": "execute_result"
    }
   ],
   "source": [
    "robot.SetActiveDOFValues(cur_joints)\n",
    "\n",
    "\n",
    "print planner.SendCommand('GetParameters')\n",
    "\n",
    "planner.InitPlan(robot, params)"
   ]
  },
  {
   "cell_type": "code",
   "execution_count": 97,
   "metadata": {},
   "outputs": [
    {
     "name": "stdout",
     "output_type": "stream",
     "text": [
      "Parameters:\n",
      "goal_bias (0.:.05:1.)\n",
      "range (0.:1.:10000.)\n",
      "\n",
      "Calling the OMPL_RRTConnect planner.\n",
      "10.0914878845\n"
     ]
    },
    {
     "ename": "AssertionError",
     "evalue": "",
     "output_type": "error",
     "traceback": [
      "\u001b[0;31m---------------------------------------------------------------------------\u001b[0m",
      "\u001b[0;31mAssertionError\u001b[0m                            Traceback (most recent call last)",
      "\u001b[0;32m<ipython-input-97-34de56502498>\u001b[0m in \u001b[0;36m<module>\u001b[0;34m()\u001b[0m\n\u001b[1;32m     17\u001b[0m \u001b[0mtoc\u001b[0m \u001b[0;34m=\u001b[0m \u001b[0mtime\u001b[0m\u001b[0;34m.\u001b[0m\u001b[0mtime\u001b[0m\u001b[0;34m(\u001b[0m\u001b[0;34m)\u001b[0m\u001b[0;34m\u001b[0m\u001b[0m\n\u001b[1;32m     18\u001b[0m \u001b[0;32mprint\u001b[0m \u001b[0mtoc\u001b[0m\u001b[0;34m-\u001b[0m\u001b[0mtic\u001b[0m\u001b[0;34m\u001b[0m\u001b[0m\n\u001b[0;32m---> 19\u001b[0;31m \u001b[0;32massert\u001b[0m \u001b[0mresult\u001b[0m \u001b[0;34m==\u001b[0m \u001b[0mPlannerStatus\u001b[0m\u001b[0;34m.\u001b[0m\u001b[0mHasSolution\u001b[0m\u001b[0;34m\u001b[0m\u001b[0m\n\u001b[0m",
      "\u001b[0;31mAssertionError\u001b[0m: "
     ]
    }
   ],
   "source": [
    "params.SetInitialConfig(cur_joints)\n",
    "params.SetGoalConfig(goal_joints)\n",
    "\n",
    "# Set the timeout and planner-specific parameters. You can view a list of\n",
    "# supported parameters by calling: planner.SendCommand('GetParameters')\n",
    "print 'Parameters:'\n",
    "print planner.SendCommand('GetParameters')\n",
    "\n",
    "params.SetExtraParameters('<range>0.2</range>')\n",
    "params.SetExtraParameters('<goal_bias>0.2</goal_bias>')\n",
    "\n",
    "print 'Calling the OMPL_RRTConnect planner.'\n",
    "traj = RaveCreateTrajectory(env, '')\n",
    "planner.InitPlan(robot, params)\n",
    "tic = time.time()\n",
    "result = planner.PlanPath(traj)\n",
    "toc = time.time()\n",
    "print toc-tic\n",
    "assert result == PlannerStatus.HasSolution"
   ]
  },
  {
   "cell_type": "code",
   "execution_count": 67,
   "metadata": {},
   "outputs": [
    {
     "name": "stdout",
     "output_type": "stream",
     "text": [
      "(202, 14)\n"
     ]
    }
   ],
   "source": [
    "n = traj.GetNumWaypoints()\n",
    "traj_cur = traj.GetWaypoints(0,n)\n",
    "\n",
    "traj_cur = traj_cur.reshape(-1,14)\n",
    "\n",
    "print traj_cur.shape"
   ]
  },
  {
   "cell_type": "code",
   "execution_count": 68,
   "metadata": {},
   "outputs": [
    {
     "ename": "KeyboardInterrupt",
     "evalue": "",
     "output_type": "error",
     "traceback": [
      "\u001b[0;31m---------------------------------------------------------------------------\u001b[0m",
      "\u001b[0;31mKeyboardInterrupt\u001b[0m                         Traceback (most recent call last)",
      "\u001b[0;32m<ipython-input-68-c62f753c7184>\u001b[0m in \u001b[0;36m<module>\u001b[0;34m()\u001b[0m\n\u001b[1;32m      2\u001b[0m \u001b[0;32mfor\u001b[0m \u001b[0mt\u001b[0m \u001b[0;32min\u001b[0m \u001b[0mtraj_cur\u001b[0m\u001b[0;34m:\u001b[0m\u001b[0;34m\u001b[0m\u001b[0m\n\u001b[1;32m      3\u001b[0m     \u001b[0mrobot\u001b[0m\u001b[0;34m.\u001b[0m\u001b[0mSetActiveDOFValues\u001b[0m\u001b[0;34m(\u001b[0m\u001b[0mt\u001b[0m\u001b[0;34m)\u001b[0m\u001b[0;34m\u001b[0m\u001b[0m\n\u001b[0;32m----> 4\u001b[0;31m     \u001b[0mtime\u001b[0m\u001b[0;34m.\u001b[0m\u001b[0msleep\u001b[0m\u001b[0;34m(\u001b[0m\u001b[0;36m0.4\u001b[0m\u001b[0;34m)\u001b[0m\u001b[0;34m\u001b[0m\u001b[0m\n\u001b[0m",
      "\u001b[0;31mKeyboardInterrupt\u001b[0m: "
     ]
    }
   ],
   "source": [
    "import time\n",
    "for t in traj_cur:\n",
    "    robot.SetActiveDOFValues(t)\n",
    "    time.sleep(0.4)"
   ]
  },
  {
   "cell_type": "code",
   "execution_count": 45,
   "metadata": {},
   "outputs": [
    {
     "data": {
      "text/plain": [
       "(2, 14)"
      ]
     },
     "execution_count": 45,
     "metadata": {},
     "output_type": "execute_result"
    }
   ],
   "source": [
    "traj_cur.shape"
   ]
  },
  {
   "cell_type": "markdown",
   "metadata": {},
   "source": [
    "### Set the IK Solver "
   ]
  },
  {
   "cell_type": "code",
   "execution_count": 13,
   "metadata": {},
   "outputs": [],
   "source": [
    "hmat_target = np.array([[ 0.9689,  0.    , -0.2474,  0.4918],\n",
    "       [-0.    ,  1.    ,  0.    ,  0.912 ],\n",
    "       [ 0.2474, -0.    ,  0.9689,  0.8947],\n",
    "       [ 0.    ,  0.    ,  0.    ,  1.    ]])\n",
    "quat_target = openravepy.quatFromRotationMatrix(hmat_target).tolist()\n",
    "xyz_target = hmat_target[0:3,3].tolist()\n",
    "\n",
    "# BEGIN IK for all manips\n",
    "manips = [left_arm,right_arm]\n",
    "for manip in manips:\n",
    "    robot.SetActiveManipulator(manip)\n",
    "    ikmodel = openravepy.databases.inversekinematics.InverseKinematicsModel(\n",
    "        robot, iktype=openravepy.IkParameterization.Type.Transform6D)\n",
    "    if not ikmodel.load():\n",
    "        ikmodel.autogenerate()   \n",
    "    \n",
    "target_joint = ku.ik_for_link(hmat_target, left_arm, \"l_gripper_tool_frame\",\n",
    "    filter_options = openravepy.IkFilterOptions.CheckEnvCollisions)\n",
    "# END ik"
   ]
  },
  {
   "cell_type": "markdown",
   "metadata": {},
   "source": [
    "### Construct a random problem "
   ]
  },
  {
   "cell_type": "code",
   "execution_count": null,
   "metadata": {},
   "outputs": [],
   "source": []
  },
  {
   "cell_type": "code",
   "execution_count": 13,
   "metadata": {},
   "outputs": [
    {
     "ename": "NameError",
     "evalue": "global name 'ku' is not defined",
     "output_type": "error",
     "traceback": [
      "\u001b[0;31m---------------------------------------------------------------------------\u001b[0m",
      "\u001b[0;31mNameError\u001b[0m                                 Traceback (most recent call last)",
      "\u001b[0;32m<ipython-input-13-b82d7bd33a65>\u001b[0m in \u001b[0;36m<module>\u001b[0;34m()\u001b[0m\n\u001b[1;32m      3\u001b[0m \u001b[0mlimits\u001b[0m\u001b[0;34m[\u001b[0m\u001b[0;36m0\u001b[0m\u001b[0;34m]\u001b[0m \u001b[0;34m=\u001b[0m \u001b[0;34m[\u001b[0m\u001b[0;34m[\u001b[0m\u001b[0;36m0.47\u001b[0m\u001b[0;34m,\u001b[0m \u001b[0;36m0.8\u001b[0m\u001b[0;34m]\u001b[0m\u001b[0;34m,\u001b[0m\u001b[0;34m[\u001b[0m\u001b[0;34m-\u001b[0m\u001b[0;36m0.5\u001b[0m\u001b[0;34m,\u001b[0m \u001b[0;36m0.5\u001b[0m\u001b[0;34m]\u001b[0m\u001b[0;34m,\u001b[0m\u001b[0;34m[\u001b[0m\u001b[0;36m0.3\u001b[0m\u001b[0;34m,\u001b[0m\u001b[0;36m1.4\u001b[0m\u001b[0;34m]\u001b[0m\u001b[0;34m]\u001b[0m\u001b[0;34m\u001b[0m\u001b[0m\n\u001b[1;32m      4\u001b[0m \u001b[0;32mfor\u001b[0m \u001b[0mi\u001b[0m \u001b[0;32min\u001b[0m \u001b[0mrange\u001b[0m\u001b[0;34m(\u001b[0m\u001b[0;36m1\u001b[0m\u001b[0;34m)\u001b[0m\u001b[0;34m:\u001b[0m\u001b[0;34m\u001b[0m\u001b[0m\n\u001b[0;32m----> 5\u001b[0;31m     \u001b[0m_\u001b[0m\u001b[0;34m,\u001b[0m\u001b[0m_\u001b[0m\u001b[0;34m,\u001b[0m\u001b[0m_\u001b[0m\u001b[0;34m,\u001b[0m\u001b[0m_\u001b[0m\u001b[0;34m,\u001b[0m\u001b[0mtarget_joint\u001b[0m \u001b[0;34m=\u001b[0m \u001b[0mget_random_pose_both\u001b[0m\u001b[0;34m(\u001b[0m\u001b[0menv\u001b[0m\u001b[0;34m,\u001b[0m\u001b[0mlimits\u001b[0m\u001b[0;34m,\u001b[0m \u001b[0mright_arm\u001b[0m\u001b[0;34m,\u001b[0m \u001b[0mleft_arm\u001b[0m\u001b[0;34m)\u001b[0m\u001b[0;34m\u001b[0m\u001b[0m\n\u001b[0m\u001b[1;32m      6\u001b[0m     \u001b[0mrobot\u001b[0m\u001b[0;34m.\u001b[0m\u001b[0mSetActiveDOFValues\u001b[0m\u001b[0;34m(\u001b[0m\u001b[0mtarget_joint\u001b[0m\u001b[0;34m)\u001b[0m\u001b[0;34m\u001b[0m\u001b[0m\n",
      "\u001b[0;32m/home/teguh/git/memmo_for_trajopt/codes/notebooks/planning_util.py\u001b[0m in \u001b[0;36mget_random_pose_both\u001b[0;34m(env, limits, right_arm, left_arm)\u001b[0m\n\u001b[1;32m     61\u001b[0m         \u001b[0;31m#Get right pose\u001b[0m\u001b[0;34m\u001b[0m\u001b[0;34m\u001b[0m\u001b[0m\n\u001b[1;32m     62\u001b[0m         \u001b[0mrobot\u001b[0m\u001b[0;34m.\u001b[0m\u001b[0mSetActiveDOFValues\u001b[0m\u001b[0;34m(\u001b[0m\u001b[0minit_joint\u001b[0m\u001b[0;34m)\u001b[0m\u001b[0;34m\u001b[0m\u001b[0m\n\u001b[0;32m---> 63\u001b[0;31m         \u001b[0mtarget_joint_right\u001b[0m\u001b[0;34m,\u001b[0m\u001b[0mxyz_target_right\u001b[0m \u001b[0;34m=\u001b[0m \u001b[0mget_random_pose\u001b[0m\u001b[0;34m(\u001b[0m\u001b[0menv\u001b[0m\u001b[0;34m,\u001b[0m\u001b[0mlimits\u001b[0m\u001b[0;34m,\u001b[0m\u001b[0mright_arm\u001b[0m\u001b[0;34m,\u001b[0m \u001b[0mframe_name\u001b[0m\u001b[0;34m=\u001b[0m\u001b[0;34m'r_gripper_tool_frame'\u001b[0m\u001b[0;34m)\u001b[0m\u001b[0;34m\u001b[0m\u001b[0m\n\u001b[0m\u001b[1;32m     64\u001b[0m         \u001b[0;31m#Get left pose\u001b[0m\u001b[0;34m\u001b[0m\u001b[0;34m\u001b[0m\u001b[0m\n\u001b[1;32m     65\u001b[0m         \u001b[0mrobot\u001b[0m\u001b[0;34m.\u001b[0m\u001b[0mSetActiveDOFValues\u001b[0m\u001b[0;34m(\u001b[0m\u001b[0minit_joint\u001b[0m\u001b[0;34m)\u001b[0m\u001b[0;34m\u001b[0m\u001b[0m\n",
      "\u001b[0;32m/home/teguh/git/memmo_for_trajopt/codes/notebooks/planning_util.py\u001b[0m in \u001b[0;36mget_random_pose\u001b[0;34m(env, limits, manip, frame_name)\u001b[0m\n\u001b[1;32m     40\u001b[0m         \u001b[0mquat\u001b[0m \u001b[0;34m=\u001b[0m \u001b[0;34m[\u001b[0m\u001b[0;36m1\u001b[0m\u001b[0;34m,\u001b[0m\u001b[0;36m0\u001b[0m\u001b[0;34m,\u001b[0m\u001b[0;36m0\u001b[0m\u001b[0;34m,\u001b[0m\u001b[0;36m0\u001b[0m\u001b[0;34m]\u001b[0m \u001b[0;31m# wxyz\u001b[0m\u001b[0;34m\u001b[0m\u001b[0m\n\u001b[1;32m     41\u001b[0m         \u001b[0mpose\u001b[0m \u001b[0;34m=\u001b[0m \u001b[0mopenravepy\u001b[0m\u001b[0;34m.\u001b[0m\u001b[0mmatrixFromPose\u001b[0m\u001b[0;34m(\u001b[0m \u001b[0mnp\u001b[0m\u001b[0;34m.\u001b[0m\u001b[0mr_\u001b[0m\u001b[0;34m[\u001b[0m\u001b[0mquat\u001b[0m\u001b[0;34m,\u001b[0m \u001b[0mxyz\u001b[0m\u001b[0;34m]\u001b[0m \u001b[0;34m)\u001b[0m\u001b[0;34m\u001b[0m\u001b[0m\n\u001b[0;32m---> 42\u001b[0;31m         joint_angle = ku.ik_for_link(pose, manip, frame_name,\n\u001b[0m\u001b[1;32m     43\u001b[0m           filter_options = openravepy.IkFilterOptions.CheckEnvCollisions)\n\u001b[1;32m     44\u001b[0m         \u001b[0;32mif\u001b[0m \u001b[0mjoint_angle\u001b[0m \u001b[0;32mis\u001b[0m \u001b[0mNone\u001b[0m\u001b[0;34m:\u001b[0m\u001b[0;32mcontinue\u001b[0m\u001b[0;34m\u001b[0m\u001b[0m\n",
      "\u001b[0;31mNameError\u001b[0m: global name 'ku' is not defined"
     ]
    }
   ],
   "source": [
    "from planning_util import *\n",
    "limits = dict()\n",
    "limits[0] = [[0.47, 0.8],[-0.5, 0.5],[0.3,1.4]]\n",
    "for i in range(1):\n",
    "    _,_,_,_,target_joint = get_random_pose_both(env,limits, right_arm, left_arm)\n",
    "    robot.SetActiveDOFValues(target_joint)"
   ]
  },
  {
   "cell_type": "markdown",
   "metadata": {},
   "source": [
    "### Build / Retrieve Dataset"
   ]
  },
  {
   "cell_type": "code",
   "execution_count": null,
   "metadata": {},
   "outputs": [],
   "source": [
    "def build_database(x_init, y_init, num_traj, limits, n_steps = 30, predictor=None):\n",
    "    num_plan = 0\n",
    "    comp_times = []\n",
    "    costs = []\n",
    "\n",
    "    tic = time.time()\n",
    "    while len(x_init) < num_traj:\n",
    "        print('{}th Planning, {} trajectories in database'.format(num_plan,len(x_init)))\n",
    "        #Get a random pose as target\n",
    "        target_joint_right,xyz_target_right,target_joint_left, \\\n",
    "                            xyz_target_left,target_joint = get_random_pose_both(env,limits,right_arm,left_arm)\n",
    "        robot.SetActiveDOFValues(target_joint)\n",
    "        \n",
    "        #Build memory using a set of predictors\n",
    "        for func in predictor:\n",
    "            #Predict the warmstart\n",
    "            x_cur = np.concatenate([target_joint])[None,:]\n",
    "            if isinstance(func, Straight_Regressor):\n",
    "                traj,_ = func.predict(init_joint0, target_joint)     \n",
    "            else:\n",
    "                traj,_ = func.predict(x_cur)\n",
    "                \n",
    "            if func.is_transform == 'PCA':\n",
    "                traj = func.pca.inverse_transform(traj)\n",
    "            \n",
    "            traj = traj.reshape(-1,dof)\n",
    "            traj[0,:] = init_joint0\n",
    "            \n",
    "            #Plan\n",
    "            robot.SetActiveDOFValues(init_joint0)\n",
    "            request_traj = define_request(time_step=n_steps, coeffs = coeffs,init_type='given_traj',constraint_type='joint')\n",
    "            request_traj = add_constraint(request_traj, 'joint', '', target_joint,-1)\n",
    "            request_traj = set_init(request_traj, 'given_traj', traj)\n",
    "            duration, result = run_opt(request_traj, env)    \n",
    "\n",
    "            #Check traj result\n",
    "            traj = result.GetTraj()\n",
    "            if check_traj(env,result, target_joint):\n",
    "                print 'Planning is successfull!'\n",
    "                x_init.append(np.concatenate(x_cur))\n",
    "                y_init.append(traj.flatten())\n",
    "                comp_times.append(duration)\n",
    "                costs.append(result.GetCosts()[0][1])\n",
    "                break\n",
    "            else:\n",
    "                print('Fail to find good solution!')\n",
    "                continue        \n",
    "\n",
    "        num_plan += 1\n",
    "        \n",
    "    \n",
    "    #Store the result\n",
    "    toc = time.time()\n",
    "    total_time = toc-tic\n",
    "    success_rate = num_traj*1.0/num_plan\n",
    "    x_init = np.vstack(x_init)\n",
    "    y_init = np.vstack(y_init)\n",
    "    \n",
    "    data = dict()\n",
    "    data['x'] = x_init\n",
    "    data['y'] = y_init\n",
    "    data['total_time'] = total_time\n",
    "    data['success_rate'] = success_rate\n",
    "    data['comp_times'] = comp_times\n",
    "    data['costs'] = costs\n",
    "    return data"
   ]
  },
  {
   "cell_type": "code",
   "execution_count": null,
   "metadata": {},
   "outputs": [],
   "source": [
    "to_build_database = False\n",
    "to_augment_database = False\n",
    "num_traj = 500\n",
    "n_steps = 30\n",
    "limits = dict()\n",
    "limits[0] = [[0.47, 0.8],[-0.5, 0.5],[0.3,1.4]]\n",
    "\n",
    "#build using straight-line warm-start\n",
    "straight = Straight_Regressor(dof = dof, n_steps = n_steps)\n",
    "\n",
    "if to_build_database:\n",
    "    if to_augment_database:\n",
    "        #load data\n",
    "        data = pickle.load( open(FILENAME + 'data.pkl', 'rb'))\n",
    "        x_init = list(data['x'])\n",
    "        y_init = list(data['y'])\n",
    "        num_traj += len(x_init)     \n",
    "    else:\n",
    "        x_init,y_init = [],[]\n",
    "        \n",
    "    data = build_database(x_init, y_init, num_traj,limits, n_steps = n_steps, predictor=[straight])\n",
    "    x_init = data['x']\n",
    "    y_init = data['y']\n",
    "    pickle.dump(data,open(FILENAME + 'data.pkl', 'wb') )\n",
    "    print('Success_rate : {}, average costs:{}'.format(data['success_rate'], np.mean(data['costs'])))\n",
    "else:\n",
    "    #load data\n",
    "    data = pickle.load( open(FILENAME + 'data.pkl', 'rb'))\n",
    "    x_init = data['x']\n",
    "    y_init = data['y']\n",
    "    num_traj = len(x_init)\n",
    "    print('Obtain {} trajectories'.format(num_traj))"
   ]
  },
  {
   "cell_type": "markdown",
   "metadata": {},
   "source": [
    "### Reduce the data sample"
   ]
  },
  {
   "cell_type": "code",
   "execution_count": null,
   "metadata": {},
   "outputs": [],
   "source": [
    "x_init = x_init[0:200]\n",
    "y_init = y_init[0:200]"
   ]
  },
  {
   "cell_type": "markdown",
   "metadata": {},
   "source": [
    "### For Report "
   ]
  },
  {
   "cell_type": "raw",
   "metadata": {},
   "source": [
    "for i in range(10):\n",
    "    index = np.random.randint(0,len(x_init))\n",
    "    index = i\n",
    "    x_cur = x_init[index:index+1,:]\n",
    "    y_cur = y_init[index:index+1,:]\n",
    "    traj = y_cur.reshape(-1,dof)\n",
    "    raw_input()\n",
    "    plot_traj(env, traj,timestep=0.1)"
   ]
  },
  {
   "cell_type": "markdown",
   "metadata": {},
   "source": [
    "### Apply Dimensionality Reduction to the data"
   ]
  },
  {
   "cell_type": "code",
   "execution_count": null,
   "metadata": {
    "scrolled": true
   },
   "outputs": [],
   "source": [
    "from sklearn.decomposition import PCA\n",
    "y_pca = PCA(n_components = 50)\n",
    "y_pca.fit(y_init)\n",
    "y_init_reduced = y_pca.transform(y_init)"
   ]
  },
  {
   "cell_type": "markdown",
   "metadata": {},
   "source": [
    "### Check Database "
   ]
  },
  {
   "cell_type": "raw",
   "metadata": {},
   "source": [
    "for i in range(5):\n",
    "    index = np.random.randint(0,len(y_init))\n",
    "    traj = y_init[index:index+1]\n",
    "    traj = traj.reshape(-1,dof)\n",
    "    plot_traj(env,traj)"
   ]
  },
  {
   "cell_type": "markdown",
   "metadata": {},
   "source": [
    "### Reduce the data sample"
   ]
  },
  {
   "cell_type": "raw",
   "metadata": {},
   "source": [
    "x_init = x_init[0:100]\n",
    "y_init = y_init[0:100]"
   ]
  },
  {
   "cell_type": "markdown",
   "metadata": {},
   "source": [
    "### Build Function Approximator"
   ]
  },
  {
   "cell_type": "code",
   "execution_count": null,
   "metadata": {},
   "outputs": [],
   "source": [
    "dim_input = len(x_init[0])\n",
    "is_load_regressor = False\n",
    "\n",
    "straight = Straight_Regressor(dof = dof, n_steps=n_steps)\n",
    "nn = NN_Regressor()\n",
    "gpy = GPy_Regressor(dim_input = dim_input)\n",
    "gpy_pca = GPy_Regressor(dim_input = dim_input, is_transform='PCA')\n",
    "gpy_pca.pca = y_pca\n",
    "bgmr = DP_GLM_Regressor()\n",
    "bgmr_pca = DP_GLM_Regressor(is_transform='PCA')\n",
    "bgmr_pca.pca = y_pca\n",
    "if is_load_regressor:\n",
    "    nn.load_from_file(FILENAME + 'nn')\n",
    "    gpy.load_from_file(FILENAME + 'gpy')\n",
    "    gpy_pca.load_from_file(FILENAME + 'gpy_pca')\n",
    "    bgmr.load_from_file(FILENAME + 'bgmr')\n",
    "    bgmr_pca.load_from_file(FILENAME + 'bgmr_pca')\n",
    "else:\n",
    "    print 'Planning for NN'\n",
    "    nn.fit(x_init, y_init)\n",
    "    nn.save_to_file(FILENAME + 'nn')\n",
    "\n",
    "    print 'Planning for GPY'\n",
    "    gpy.fit(x_init, y_init, num_restarts=10)\n",
    "    gpy.save_to_file(FILENAME + 'gpy')\n",
    "    \n",
    "    print 'Planning for GPY PCA'\n",
    "    gpy_pca.fit(x_init, y_init_reduced)\n",
    "    gpy_pca.save_to_file(FILENAME + 'gpy_pca')\n",
    "\n",
    "    print 'Planning for bgmr'\n",
    "    bgmr.fit(x_init,y_init)\n",
    "    bgmr.save_to_file(FILENAME + 'bgmr')\n",
    "    \n",
    "    print 'Planning for bgmr PCA'\n",
    "    bgmr_pca.fit(x_init,y_init_reduced)\n",
    "    bgmr_pca.save_to_file(FILENAME + 'bgmr_pca')"
   ]
  },
  {
   "cell_type": "markdown",
   "metadata": {},
   "source": [
    "### Creating the test cases"
   ]
  },
  {
   "cell_type": "code",
   "execution_count": null,
   "metadata": {
    "scrolled": true
   },
   "outputs": [],
   "source": [
    "create_test = False\n",
    "\n",
    "if create_test:\n",
    "    x_test = []\n",
    "    target_joints = []\n",
    "    num_test = 500\n",
    "    for i in range(num_test):\n",
    "        target_joint_right,xyz_target_right,target_joint_left,xyz_target_left,target_joint = get_random_pose_both(env,limits,right_arm,left_arm)\n",
    "        robot.SetActiveDOFValues(target_joint)\n",
    "        cur_x = target_joint\n",
    "        x_test.append(cur_x)\n",
    "\n",
    "    x_test = np.vstack(x_test)\n",
    "    data_test = dict()\n",
    "    data_test['x_test'] = x_test\n",
    "    test_file = open(FILENAME + 'data_test.pkl', 'wb')\n",
    "    pickle.dump(data_test,test_file)\n",
    "    test_file.close()\n",
    "else:\n",
    "    #load data\n",
    "    test_file = open(FILENAME + 'data_test.pkl', 'rb')\n",
    "    data_test = pickle.load(test_file)\n",
    "    x_test = data_test['x_test']\n",
    "    num_test = len(x_test)\n",
    "    test_file.close()"
   ]
  },
  {
   "cell_type": "markdown",
   "metadata": {},
   "source": [
    "### Testing the warmstart"
   ]
  },
  {
   "cell_type": "code",
   "execution_count": null,
   "metadata": {
    "scrolled": true
   },
   "outputs": [],
   "source": [
    "method_names = ['STD    ', 'NN     ', 'GPR    ', 'GPR_PCA', 'BGMR', 'BGMR_PCA']\n",
    "methods = [straight, nn, gpy, gpy_pca,  bgmr, bgmr_pca]\n",
    "results = dict()\n",
    "result,success, duration = dict(),dict(),dict()\n",
    "for method in method_names:\n",
    "    results[method] = dict()\n",
    "    results[method]['costs'] = []\n",
    "    results[method]['successes'] = []\n",
    "    results[method]['comp_times'] = []\n",
    "    results[method]['func_evals'] = []\n",
    "    results[method]['qp_solves'] = []\n",
    "    \n",
    "num_test = 10\n",
    "for i in range(num_test):\n",
    "    print('{}th Planning'.format(i))\n",
    "    \n",
    "    #setting up the problem case\n",
    "    index = np.random.randint(0,len(x_test))\n",
    "    index = i\n",
    "    x_cur = x_test[index:index+1,:]\n",
    "    target_joint = x_cur.copy().flatten()\n",
    "    robot.SetActiveDOFValues(init_joint0)\n",
    "    \n",
    "    #plan with various warmstarts\n",
    "    request_traj = define_request(time_step=n_steps, coeffs = coeffs,init_type='given_traj',constraint_type='joint')\n",
    "    request_traj = add_constraint(request_traj, 'joint', '', target_joint,-1)\n",
    "    \n",
    "    for i,method in enumerate(methods):\n",
    "        method_name = method_names[i]\n",
    "        if isinstance(method, Straight_Regressor):\n",
    "            traj,cov = method.predict(init_joint0, target_joint)\n",
    "        else:\n",
    "            traj,cov = method.predict(x_cur)\n",
    "            \n",
    "        if method.is_transform == 'PCA':\n",
    "            traj = method.pca.inverse_transform(traj)\n",
    "            \n",
    "        traj = traj.reshape(-1,dof)\n",
    "        traj[0,:] = init_joint0\n",
    "        robot.SetActiveDOFValues(init_joint0)\n",
    "        request_traj = set_init(request_traj, 'given_traj', traj)\n",
    "        duration[method_name], result[method_name] = run_opt(request_traj, env)    \n",
    "        success[method_name] = check_traj(env,result[method_name], target_joint)\n",
    "\n",
    "    #Record the result\n",
    "    for method_name in method_names:\n",
    "        results[method_name]['costs'].append(result[method_name].GetCosts()[0][1])\n",
    "        results[method_name]['func_evals'].append(result[method_name].GetNumFuncEval()[0])\n",
    "        results[method_name]['qp_solves'].append(result[method_name].GetNumQPSolve()[0])\n",
    "        results[method_name]['successes'].append(success[method_name])      \n",
    "        results[method_name]['comp_times'].append(duration[method_name])\n"
   ]
  },
  {
   "cell_type": "markdown",
   "metadata": {},
   "source": [
    "### Printing Results"
   ]
  },
  {
   "cell_type": "code",
   "execution_count": null,
   "metadata": {
    "scrolled": true
   },
   "outputs": [],
   "source": [
    "print(' Method \\t| Success Rate \\t| Conv. Time \\t| Traj. Cost \\t| Func. Evals \\t| QP Solves')\n",
    "for method in method_names:\n",
    "    successes = np.array(results[method]['successes'])\n",
    "    success = np.count_nonzero(successes)\n",
    "    \n",
    "    comp_times = np.array(results[method]['comp_times'])[successes]\n",
    "    costs = np.array(results[method]['costs'])[successes]\n",
    "    func_evals = np.array(results[method]['func_evals'])[successes]\n",
    "    qp_solves = np.array(results[method]['qp_solves'])[successes]\n",
    "    \n",
    "    print('{0} \\t& {1:.3f} \\t& {2:.2f} \\t& {3:.3f} \\t \\\\\\\\'.format(method, success*100.0/len(successes), np.mean(comp_times), np.sum(costs)/success))#, 1.0*np.sum(func_evals)/success, 1.0*np.sum(qp_solves)/success ))\n",
    "    "
   ]
  },
  {
   "cell_type": "markdown",
   "metadata": {},
   "source": [
    "### Printing Results Tied to Standard Success"
   ]
  },
  {
   "cell_type": "code",
   "execution_count": null,
   "metadata": {
    "scrolled": true
   },
   "outputs": [],
   "source": [
    "print(' Method \\t| Success Rate \\t| Conv. Time \\t| Traj. Cost \\t| Func. Evals \\t| QP Solves')\n",
    "standard_successes = np.array(results['STD    ']['successes'])\n",
    "\n",
    "for method in method_names:\n",
    "    successes = np.array(results[method]['successes'])[standard_successes]\n",
    "    success = np.count_nonzero(successes)\n",
    "    comp_times = np.array(results[method]['comp_times'])[standard_successes][successes]\n",
    "    costs = np.array(results[method]['costs'])[standard_successes][successes]\n",
    "    func_evals = np.array(results[method]['func_evals'])[standard_successes][successes]\n",
    "    qp_solves = np.array(results[method]['qp_solves'])[standard_successes][successes]\n",
    "    \n",
    "    print('{0}: \\t {1:.3f} \\t {2:.2f} \\t {3:.3f} \\t {4:.3f} \\t {5:.3f}'.format(method, success*1.0/len(successes), np.sum(comp_times)/success, np.sum(costs)/success, 1.0*np.sum(func_evals)/success, 1.0*np.sum(qp_solves)/success ))\n",
    "    "
   ]
  },
  {
   "cell_type": "code",
   "execution_count": null,
   "metadata": {},
   "outputs": [],
   "source": []
  }
 ],
 "metadata": {
  "kernelspec": {
   "display_name": "Python 2",
   "language": "python",
   "name": "python2"
  },
  "language_info": {
   "codemirror_mode": {
    "name": "ipython",
    "version": 2
   },
   "file_extension": ".py",
   "mimetype": "text/x-python",
   "name": "python",
   "nbconvert_exporter": "python",
   "pygments_lexer": "ipython2",
   "version": "2.7.12"
  }
 },
 "nbformat": 4,
 "nbformat_minor": 2
}
