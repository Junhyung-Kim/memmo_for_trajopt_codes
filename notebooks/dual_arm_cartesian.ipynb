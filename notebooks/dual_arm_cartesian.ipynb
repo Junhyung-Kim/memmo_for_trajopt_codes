{
 "cells": [
  {
   "cell_type": "markdown",
   "metadata": {},
   "source": [
    "### Importing libraries"
   ]
  },
  {
   "cell_type": "code",
   "execution_count": null,
   "metadata": {
    "scrolled": true
   },
   "outputs": [],
   "source": [
    "import openravepy\n",
    "import trajoptpy\n",
    "import json\n",
    "import numpy as np\n",
    "import trajoptpy.kin_utils as ku\n",
    "from trajoptpy.check_traj import traj_is_safe\n",
    "import time\n",
    "import random \n",
    "import matplotlib.pyplot as plt\n",
    "import pickle\n",
    "from trajopt_util import *\n",
    "from planning_util import *\n",
    "from regression import *\n",
    "%matplotlib inline\n",
    "%load_ext autoreload\n",
    "%autoreload 2\n",
    "\n",
    "FILENAME = 'data/dual_arm_cartesian/'"
   ]
  },
  {
   "cell_type": "code",
   "execution_count": null,
   "metadata": {},
   "outputs": [],
   "source": [
    "def get_random_joints(low_limit, up_limit):\n",
    "    dof = len(low_limit)\n",
    "    joint_angle = np.random.rand(dof)*(up_limit-low_limit) + low_limit     \n",
    "    return joint_angle\n"
   ]
  },
  {
   "cell_type": "markdown",
   "metadata": {},
   "source": [
    "### Setting the trajopt"
   ]
  },
  {
   "cell_type": "code",
   "execution_count": null,
   "metadata": {},
   "outputs": [],
   "source": [
    "np.set_printoptions(precision=4, suppress=True)\n",
    "\n",
    "env = openravepy.Environment()\n",
    "env.StopSimulation()\n",
    "env.Load(\"robots/pr2-beta-static.zae\")\n",
    "env.Load(\"../env/bookshelves.env.xml\")\n",
    "env.SetDefaultViewer()"
   ]
  },
  {
   "cell_type": "markdown",
   "metadata": {},
   "source": [
    "### Setting the robot"
   ]
  },
  {
   "cell_type": "code",
   "execution_count": null,
   "metadata": {},
   "outputs": [],
   "source": [
    "robot = env.GetRobots()[0]\n",
    "\n",
    "left_arm = robot.GetManipulator(\"leftarm\")\n",
    "right_arm = robot.GetManipulator(\"rightarm\")\n",
    "\n",
    "robot.SetActiveDOFs(np.r_[right_arm.GetArmIndices(), left_arm.GetArmIndices()])\n",
    "coeffs = [1,1,1,1,1,1,1,  1,1,1,1,1,1,1,] #coefficients for joint velocity cost\n",
    "\n",
    "dof = len(robot.GetActiveDOFValues())\n",
    "left_dof_away = np.array([ 0.5646,  1.1371, -0.65  , -2.1172,  2.0552, 0.99, -2.168 ])\n",
    "right_dof_away = np.array([ -0.5646,  1.1371, 0.65  , -2.1172,  2.0552, 0.99, -2.168 ])\n",
    "robot.SetDOFValues(left_dof_away, left_arm.GetArmIndices())\n",
    "robot.SetDOFValues(right_dof_away, right_arm.GetArmIndices())\n",
    "init_joint0 = robot.GetActiveDOFValues()\n",
    "\n",
    "low_limit = robot.GetActiveDOFLimits()[0]\n",
    "up_limit = robot.GetActiveDOFLimits()[1]\n",
    "low_limit[4] = -np.pi\n",
    "low_limit[6] = -np.pi\n",
    "up_limit[4] = np.pi\n",
    "up_limit[6] = np.pi\n"
   ]
  },
  {
   "cell_type": "markdown",
   "metadata": {},
   "source": [
    "### Set the IK Solver "
   ]
  },
  {
   "cell_type": "code",
   "execution_count": null,
   "metadata": {},
   "outputs": [],
   "source": [
    "hmat_target = np.array([[ 0.9689,  0.    , -0.2474,  0.4918],\n",
    "       [-0.    ,  1.    ,  0.    ,  0.912 ],\n",
    "       [ 0.2474, -0.    ,  0.9689,  0.8947],\n",
    "       [ 0.    ,  0.    ,  0.    ,  1.    ]])\n",
    "quat_target = openravepy.quatFromRotationMatrix(hmat_target).tolist()\n",
    "xyz_target = hmat_target[0:3,3].tolist()\n",
    "\n",
    "# BEGIN IK for all manips\n",
    "manips = [left_arm,right_arm]\n",
    "for manip in manips:\n",
    "    robot.SetActiveManipulator(manip)\n",
    "    ikmodel = openravepy.databases.inversekinematics.InverseKinematicsModel(\n",
    "        robot, iktype=openravepy.IkParameterization.Type.Transform6D)\n",
    "    if not ikmodel.load():\n",
    "        ikmodel.autogenerate()   \n",
    "    \n",
    "target_joint = ku.ik_for_link(hmat_target, left_arm, \"l_gripper_tool_frame\",\n",
    "    filter_options = openravepy.IkFilterOptions.CheckEnvCollisions)\n",
    "# END ik"
   ]
  },
  {
   "cell_type": "markdown",
   "metadata": {},
   "source": [
    "### Construct a random problem "
   ]
  },
  {
   "cell_type": "raw",
   "metadata": {
    "scrolled": false
   },
   "source": [
    "limits = dict()\n",
    "limits[0] = [[0.47, 0.8],[-0.5, 0.5],[0.3,1.4]]\n",
    "for i in range(10):\n",
    "    _,_,_,_,target_joint = get_random_pose_both(env,limits, right_arm, left_arm)\n",
    "    robot.SetActiveDOFValues(target_joint)"
   ]
  },
  {
   "cell_type": "markdown",
   "metadata": {},
   "source": [
    "### Build / Retrieve Dataset"
   ]
  },
  {
   "cell_type": "code",
   "execution_count": null,
   "metadata": {},
   "outputs": [],
   "source": [
    "def build_database(x_init, y_init, num_traj, limits, n_steps = 30,predictor=None):\n",
    "    num_plan = 0\n",
    "    comp_times = []\n",
    "    costs = []\n",
    "    tic = time.time()\n",
    "    \n",
    "    while len(x_init) < num_traj:\n",
    "        print('{}th Planning, {} trajectories in database'.format(num_plan,len(x_init)))\n",
    "        #Get a random pose as target\n",
    "        robot.SetActiveDOFValues(init_joint0)\n",
    "        target_joint_right,xyz_target_right,target_joint_left,xyz_target_left,target_joint = get_random_pose_both(env,limits,right_arm,left_arm)\n",
    "        robot.SetActiveDOFValues(target_joint)\n",
    "        \n",
    "        quat = [1,0,0,0]\n",
    "        target_left = np.concatenate([xyz_target_left, quat])\n",
    "        target_right = np.concatenate([xyz_target_right, quat])\n",
    "        \n",
    "        \n",
    "        #Build memory using a set of predictors\n",
    "        for func in predictor:\n",
    "            #Predict the warmstart\n",
    "            x_cur = np.concatenate([xyz_target_left,xyz_target_right])[None,:]\n",
    "            if isinstance(func, Straight_Regressor):\n",
    "                traj,_ = func.predict(init_joint0, target_joint)     \n",
    "            else:\n",
    "                traj,_ = func.predict(x_cur)\n",
    "            traj = traj.reshape(-1,dof)\n",
    "            traj[0,:] = init_joint0\n",
    "            \n",
    "            #Plan\n",
    "            robot.SetActiveDOFValues(init_joint0)\n",
    "            request_traj = define_request(time_step=n_steps, coeffs = coeffs,init_type='given_traj',constraint_type='pose')\n",
    "            request_traj = add_constraint(request_traj, 'pose', 'l_gripper_tool_frame', target_left,n_steps-1)\n",
    "            request_traj = add_constraint(request_traj, 'pose', 'r_gripper_tool_frame', target_right,n_steps-1)\n",
    "            request_traj = set_init(request_traj, 'given_traj', traj)\n",
    "            duration, result = run_opt(request_traj, env)    \n",
    "\n",
    "            #Check traj result\n",
    "            traj = result.GetTraj()\n",
    "            if check_traj_pose(env,result, target_left, target_right):\n",
    "                print 'Planning is successfull!'\n",
    "                x_init.append(x_cur)\n",
    "                y_init.append(traj.flatten())\n",
    "                comp_times.append(duration)\n",
    "                costs.append(result.GetCosts()[0][1])\n",
    "                break\n",
    "            else:\n",
    "                print('Fail to find good solution!')\n",
    "                continue   \n",
    "\n",
    "        num_plan += 1\n",
    "        \n",
    "        \n",
    "    #Store the result\n",
    "    toc = time.time()\n",
    "    total_time = toc-tic\n",
    "    success_rate = num_traj*1.0/num_plan\n",
    "    x_init = np.vstack(x_init)\n",
    "    y_init = np.vstack(y_init)\n",
    "    \n",
    "    \n",
    "    data = dict()\n",
    "    data['x'] = x_init\n",
    "    data['y'] = y_init\n",
    "    data['total_time'] = total_time\n",
    "    data['success_rate'] = success_rate\n",
    "    data['comp_times'] = comp_times\n",
    "    data['costs'] = costs\n",
    "    return data"
   ]
  },
  {
   "cell_type": "code",
   "execution_count": null,
   "metadata": {
    "scrolled": true
   },
   "outputs": [],
   "source": [
    "to_build_database = False\n",
    "to_augment_database = False\n",
    "num_traj = 1000\n",
    "n_steps = 30\n",
    "limits = dict()\n",
    "limits[0] = [[0.47, 0.8],[-0.5, 0.5],[0.3,1.4]]\n",
    "straight = Straight_Regressor(dof = dof, n_steps = n_steps)\n",
    "\n",
    "if to_build_database:\n",
    "    if to_augment_database:\n",
    "        #load data\n",
    "        data = pickle.load( open(FILENAME + 'data.pkl', 'rb'))\n",
    "        x_init = list(data['x'])\n",
    "        y_init = list(data['y'])\n",
    "        num_traj += len(x_init)     \n",
    "    else:\n",
    "        x_init,y_init = [],[]\n",
    "        \n",
    "    data = build_database(x_init, y_init, num_traj,limits, n_steps = n_steps, predictor = [straight])\n",
    "    x_init = data['x']\n",
    "    y_init = data['y']\n",
    "    pickle.dump(data,open(FILENAME + 'data.pkl', 'wb') )\n",
    "    print('Success_rate : {}, average costs:{}'.format(data['success_rate'], np.mean(data['costs'])))\n",
    "else:\n",
    "    #load data\n",
    "    data = pickle.load( open(FILENAME + 'data.pkl', 'rb'))\n",
    "    x_init = data['x']\n",
    "    y_init = data['y']\n",
    "    num_traj = len(x_init)"
   ]
  },
  {
   "cell_type": "markdown",
   "metadata": {},
   "source": [
    "### Reduce the data sample"
   ]
  },
  {
   "cell_type": "code",
   "execution_count": null,
   "metadata": {},
   "outputs": [],
   "source": [
    "x_init = x_init[0:200]\n",
    "y_init = y_init[0:200]"
   ]
  },
  {
   "cell_type": "markdown",
   "metadata": {},
   "source": [
    "### Apply Dimensionality Reduction to the data"
   ]
  },
  {
   "cell_type": "code",
   "execution_count": null,
   "metadata": {
    "scrolled": true
   },
   "outputs": [],
   "source": [
    "from sklearn.decomposition import PCA\n",
    "y_pca = PCA(n_components = 50)\n",
    "y_pca.fit(y_init)\n",
    "y_init_reduced = y_pca.transform(y_init)"
   ]
  },
  {
   "cell_type": "markdown",
   "metadata": {},
   "source": [
    "### Check Database "
   ]
  },
  {
   "cell_type": "raw",
   "metadata": {
    "scrolled": true
   },
   "source": [
    "for i in range(5):\n",
    "    index = np.random.randint(0,len(y_init))\n",
    "    traj = y_init[index:index+1]\n",
    "    traj = traj.reshape(-1,dof)\n",
    "    plot_traj(env,traj)"
   ]
  },
  {
   "cell_type": "markdown",
   "metadata": {},
   "source": [
    "### Build Function Approximator"
   ]
  },
  {
   "cell_type": "code",
   "execution_count": null,
   "metadata": {},
   "outputs": [],
   "source": [
    "dim_input = len(x_init[0])\n",
    "is_load_regressor = False\n",
    "\n",
    "straight = Straight_Regressor(dof = dof, n_steps=n_steps)\n",
    "nn = NN_Regressor()\n",
    "gpy = GPy_Regressor(dim_input = dim_input)\n",
    "gpy_pca = GPy_Regressor(dim_input = dim_input, is_transform='PCA')\n",
    "bgmr = DP_GLM_Regressor()\n",
    "bgmr_pca = DP_GLM_Regressor(is_transform='PCA')\n",
    "\n",
    "if is_load_regressor:\n",
    "    nn.load_from_file(FILENAME + 'nn')\n",
    "    gpy.load_from_file(FILENAME + 'gpy')\n",
    "    gpy_pca.load_from_file(FILENAME + 'gpy_pca')\n",
    "    bgmr.load_from_file(FILENAME + 'bgmr')\n",
    "    bgmr_pca.load_from_file(FILENAME + 'bgmr_pca')\n",
    "else:\n",
    "    print 'Planning for NN'\n",
    "    nn.fit(x_init, y_init)\n",
    "    nn.save_to_file(FILENAME + 'nn')\n",
    "\n",
    "    print 'Planning for GPY'\n",
    "    gpy.fit(x_init, y_init, num_restarts=10)\n",
    "    gpy.save_to_file(FILENAME + 'gpy')\n",
    "    \n",
    "    print 'Planning for GPY PCA'\n",
    "    gpy_pca.fit(x_init, y_init_reduced)\n",
    "    gpy_pca.save_to_file(FILENAME + 'gpy_pca')\n",
    "\n",
    "    print 'Planning for bgmr'\n",
    "    bgmr.fit(x_init,y_init)\n",
    "    bgmr.save_to_file(FILENAME + 'bgmr')\n",
    "\n",
    "    print 'Planning for bgmr PCA'\n",
    "    bgmr_pca.fit(x_init,y_init_reduced)\n",
    "    bgmr_pca.save_to_file(FILENAME + 'bgmr_pca')"
   ]
  },
  {
   "cell_type": "markdown",
   "metadata": {
    "scrolled": true
   },
   "source": [
    "### Creating the test cases"
   ]
  },
  {
   "cell_type": "code",
   "execution_count": null,
   "metadata": {
    "scrolled": true
   },
   "outputs": [],
   "source": [
    "create_test = False\n",
    "if create_test:\n",
    "    x_test = []\n",
    "    target_joints = []\n",
    "    num_test = 500\n",
    "    for i in range(num_test):\n",
    "        robot.SetActiveDOFValues(init_joint0)\n",
    "        target_joint_right,xyz_target_right,target_joint_left,xyz_target_left,target_joint = get_random_pose_both(env,limits,right_arm,left_arm)\n",
    "        robot.SetActiveDOFValues(target_joint)\n",
    "        \n",
    "        quat = [1,0,0,0]\n",
    "        target_left = np.concatenate([xyz_target_left, quat])\n",
    "        target_right = np.concatenate([xyz_target_right, quat])\n",
    " \n",
    "        cur_x = (np.concatenate([xyz_target_left, xyz_target_right]))\n",
    "        x_test.append(cur_x)\n",
    "        target_joints.append(target_joint)\n",
    "\n",
    "    x_test = np.vstack(x_test)\n",
    "    data_test = dict()\n",
    "    data_test['x_test'] = x_test\n",
    "    data_test['target_joints'] = target_joints\n",
    "    test_file = open(FILENAME + 'data_test.npy', 'wb')\n",
    "    pickle.dump( data_test,test_file)\n",
    "    test_file.close()\n",
    "else:\n",
    "    #load data\n",
    "    test_file = open(FILENAME + 'data_test.npy', 'rb')\n",
    "    data_test = pickle.load(test_file)\n",
    "    x_test = data_test['x_test']\n",
    "    target_joints = data_test['target_joints']\n",
    "    num_test = len(x_test)\n",
    "    "
   ]
  },
  {
   "cell_type": "code",
   "execution_count": null,
   "metadata": {},
   "outputs": [],
   "source": [
    "def get_ik_both_arm(init_joint, x_cur, num_ik = 5):\n",
    "    xyz_left = x_cur[0,:3].tolist()\n",
    "    xyz_right = x_cur[0,3:].tolist()\n",
    "    quat = [1,0,0,0]\n",
    "    T_left = openravepy.matrixFromPose( np.r_[quat, xyz_left] )\n",
    "    T_right = openravepy.matrixFromPose( np.r_[quat, xyz_right] )\n",
    "    is_success = False\n",
    "    \n",
    "    #get a valid IK solution starting from a random configuration\n",
    "    while is_success is False:\n",
    "        random_joints = get_random_joints(low_limit, up_limit)\n",
    "        #Find pose for left\n",
    "        print 'Finding left'\n",
    "        robot.SetActiveDOFValues(random_joints)\n",
    "        robot.SetDOFValues(init_joint[:7], right_arm.GetArmIndices())\n",
    "\n",
    "        joint_angle_left = ku.ik_for_link(T_left, left_arm, 'l_gripper_tool_frame',\n",
    "          filter_options = openravepy.IkFilterOptions.CheckEnvCollisions)\n",
    "        if joint_angle_left is None:\n",
    "            print 'None'\n",
    "            continue\n",
    "\n",
    "        #check for collision\n",
    "        robot.SetDOFValues(joint_angle_left, left_arm.GetArmIndices())\n",
    "        if env.CheckCollision(robot) or robot.CheckSelfCollision(): continue\n",
    "            \n",
    "        #Find pose for right\n",
    "        print 'Finding right'\n",
    "        robot.SetActiveDOFValues(random_joints)\n",
    "        robot.SetDOFValues(init_joint[7:], left_arm.GetArmIndices())\n",
    "        joint_angle_right = ku.ik_for_link(T_right, right_arm, 'r_gripper_tool_frame',\n",
    "          filter_options = openravepy.IkFilterOptions.CheckEnvCollisions)\n",
    "        if joint_angle_right is None:continue\n",
    "\n",
    "        #check for collision\n",
    "        robot.SetDOFValues(joint_angle_right, right_arm.GetArmIndices())\n",
    "        if env.CheckCollision(robot) or robot.CheckSelfCollision(): \n",
    "            print 'In collision'\n",
    "            continue\n",
    "            \n",
    "        is_success = True\n",
    "    \n",
    "    \n",
    "    #given the successful random_joints, get all valid IK solutions and shuffle them\n",
    "    robot.SetActiveDOFValues(random_joints)\n",
    "    robot.SetDOFValues(init_joint[:7], right_arm.GetArmIndices())\n",
    "\n",
    "    joint_angle_lefts = ku.ik_for_link(T_left, left_arm, 'l_gripper_tool_frame',\n",
    "      filter_options = openravepy.IkFilterOptions.CheckEnvCollisions, return_all_solns = True)\n",
    "    \n",
    "    robot.SetActiveDOFValues(random_joints)\n",
    "    robot.SetDOFValues(init_joint[7:], left_arm.GetArmIndices())\n",
    "    joint_angle_rights = ku.ik_for_link(T_right, right_arm, 'r_gripper_tool_frame',\n",
    "          filter_options = openravepy.IkFilterOptions.CheckEnvCollisions, return_all_solns = True)    \n",
    "    \n",
    "    joint_angles = [np.concatenate([joint_angle_right,joint_angle_left])]\n",
    "    \n",
    "    j = 0\n",
    "    while len(joint_angles) < num_ik and j < 30:\n",
    "        if len(joint_angle_lefts) == 0 or len(joint_angle_rights) == 0:\n",
    "            break\n",
    "        np.random.shuffle(joint_angle_lefts)\n",
    "        np.random.shuffle(joint_angle_rights)\n",
    "        joint_angle_left = joint_angle_lefts[0]\n",
    "        joint_angle_right = joint_angle_rights[0]\n",
    "        joint_angle = np.concatenate([joint_angle_right,joint_angle_left])\n",
    "        robot.SetActiveDOFValues(joint_angle)\n",
    "        j += 1\n",
    "        if env.CheckCollision(robot) or robot.CheckSelfCollision(): \n",
    "            continue\n",
    "        else:\n",
    "            joint_angles += [joint_angle]\n",
    "            \n",
    "    return joint_angles"
   ]
  },
  {
   "cell_type": "code",
   "execution_count": null,
   "metadata": {},
   "outputs": [],
   "source": [
    "def compute_costs(traj):\n",
    "    cost = 0\n",
    "    for i in range(len(traj)-1):\n",
    "        cost += np.linalg.norm(traj[i]-traj[i+1])\n",
    "    return cost"
   ]
  },
  {
   "cell_type": "code",
   "execution_count": null,
   "metadata": {},
   "outputs": [],
   "source": [
    "#load gpy for joint angle\n",
    "FILENAME_AUX = 'data/dual_arm_fixed_init/'\n",
    "gpy_aux = GPy_Regressor(dim_input = 14)\n",
    "gpy_aux.load_from_file(FILENAME_AUX + 'gpy')"
   ]
  },
  {
   "cell_type": "raw",
   "metadata": {
    "scrolled": true
   },
   "source": [
    "#try predicting with gpy_aux\n",
    "request_traj_aux = define_request(time_step=n_steps, coeffs = coeffs,init_type='given_traj',constraint_type='joint')\n",
    "request_traj_aux = add_constraint(request_traj_aux, 'joint', '', target_joint,-1)\n",
    "traj,cov = gpy_aux.predict(target_joint[None,:])\n",
    "traj = traj.reshape(-1,dof)\n",
    "traj[0,:] = init_joint0\n",
    "robot.SetActiveDOFValues(init_joint0)\n",
    "request_traj_aux = set_init(request_traj_aux, 'given_traj', traj)\n",
    "duration, result = run_opt(request_traj_aux, env)    \n",
    "success = check_traj(env,result, target_joint)"
   ]
  },
  {
   "cell_type": "code",
   "execution_count": null,
   "metadata": {
    "scrolled": true
   },
   "outputs": [],
   "source": [
    "method_names = ['STD    ',  'NN     ', 'GPY    ', 'GPY_PCA',  'BGMR','BGMR_PCA', 'METRIC GPY_PCA']\n",
    "methods = [straight, nn, gpy,gpy_pca, bgmr, bgmr_pca]#\n",
    "results = dict()\n",
    "result,success, duration = dict(),dict(),dict()\n",
    "for method in method_names:\n",
    "    results[method] = dict()\n",
    "    results[method]['costs'] = []\n",
    "    results[method]['successes'] = []\n",
    "    results[method]['comp_times'] = []\n",
    "    results[method]['func_evals'] = []\n",
    "    results[method]['qp_solves'] = []\n",
    "    \n",
    "num_test = 10\n",
    "ik_times = []\n",
    "quat = [1,0,0,0]\n",
    "for i in range(num_test):\n",
    "    print('{}th Planning'.format(i))\n",
    "    \n",
    "    #setting up the problem case\n",
    "    #index = np.random.randint(0,len(x_test))\n",
    "    index = i\n",
    "    x_cur = x_test[index:index+1,:]\n",
    "    target_joint = target_joints[index]\n",
    "    robot.SetActiveDOFValues(init_joint0)\n",
    "    \n",
    "    #Other warmstart methods\n",
    "    target_left = np.concatenate([x_cur[0,0:3], quat])\n",
    "    target_right = np.concatenate([x_cur[0,3:], quat])\n",
    "    \n",
    "    request_traj = define_request(coeffs = coeffs,init_type='given_traj',constraint_type='pose')\n",
    "    request_traj = add_constraint(request_traj, 'pose', 'l_gripper_tool_frame', target_left,n_steps-1)\n",
    "    request_traj = add_constraint(request_traj, 'pose', 'r_gripper_tool_frame', target_right,n_steps-1)\n",
    "    \n",
    "    \n",
    "    for i,method in enumerate(methods):\n",
    "        method_name = method_names[i]\n",
    "        if isinstance(method, Straight_Regressor):\n",
    "            traj,cov = method.predict(init_joint0, target_joint)\n",
    "        elif isinstance(method, DP_GLM_Regressor):\n",
    "            traj,cov = method.predict(x_cur, return_gmm = True)\n",
    "        else:\n",
    "            traj,cov = method.predict(x_cur)\n",
    "            \n",
    "        if method.is_transform == 'PCA':\n",
    "            traj = y_pca.inverse_transform(traj)\n",
    "        traj = traj.reshape(-1,dof)\n",
    "        traj[0,:] = init_joint0\n",
    "        robot.SetActiveDOFValues(init_joint0)\n",
    "        request_traj = set_init(request_traj, 'given_traj', traj)\n",
    "        duration[method_name], result[method_name] = run_opt(request_traj, env)    \n",
    "        success[method_name] = check_traj_pose(env,result[method_name], target_left, target_right)\n",
    "\n",
    "    \n",
    "    #run GPY_aux with joint planning\n",
    "    method_name = method_names[-1]\n",
    "    num_ik = 5\n",
    "    trajs = []\n",
    "    targets = []\n",
    "    costs = []\n",
    "    tic = time.time()\n",
    "    robot.SetActiveDOFValues(target_joint)\n",
    "    joint_angles = get_ik_both_arm(init_joint0,x_cur, num_ik)\n",
    "    joint_angles.append(target_joint)\n",
    "    for j in range(len(joint_angles)):\n",
    "        joint_angle = joint_angles[j]\n",
    "        traj,cov = gpy_aux.predict(joint_angle[None,:])\n",
    "        traj = traj.reshape(-1,dof)\n",
    "        trajs.append(traj)\n",
    "        targets.append(joint_angle)\n",
    "        costs.append(compute_costs(traj))\n",
    "    toc = time.time()\n",
    "    print toc-tic\n",
    "    ik_times.append(toc-tic)\n",
    "    print costs\n",
    "    min_index = np.argmin(costs)\n",
    "    print min_index\n",
    "    traj = trajs[min_index]\n",
    "    target_chosen = targets[min_index]\n",
    "    request_traj_aux = define_request(time_step=n_steps, coeffs = coeffs,init_type='given_traj',constraint_type='joint')\n",
    "    request_traj_aux = add_constraint(request_traj_aux, 'joint', '', target_chosen,-1)\n",
    "    \n",
    "\n",
    "    traj[0,:] = init_joint0\n",
    "    robot.SetActiveDOFValues(init_joint0)\n",
    "    request_traj_aux = set_init(request_traj_aux, 'given_traj', traj)\n",
    "    duration[method_name], result[method_name] = run_opt(request_traj_aux, env)    \n",
    "    success[method_name] = check_traj(env,result[method_name], target_chosen)\n",
    "    \n",
    "    \n",
    "    #Record the result\n",
    "    for method_name in method_names:\n",
    "        results[method_name]['costs'].append(result[method_name].GetCosts()[0][1])\n",
    "        results[method_name]['func_evals'].append(result[method_name].GetNumFuncEval()[0])\n",
    "        results[method_name]['qp_solves'].append(result[method_name].GetNumQPSolve()[0])\n",
    "        results[method_name]['successes'].append(success[method_name])      \n",
    "        results[method_name]['comp_times'].append(duration[method_name])\n"
   ]
  },
  {
   "cell_type": "markdown",
   "metadata": {},
   "source": [
    "### Printing Results"
   ]
  },
  {
   "cell_type": "code",
   "execution_count": null,
   "metadata": {
    "scrolled": true
   },
   "outputs": [],
   "source": [
    "print(' Method \\t| Success Rate \\t| Conv. Time \\t| Traj. Cost \\t| Func. Evals \\t| QP Solves')\n",
    "for method in method_names:\n",
    "    successes = np.array(results[method]['successes'])\n",
    "    success = np.count_nonzero(successes)\n",
    "    \n",
    "    comp_times = np.array(results[method]['comp_times'])[successes]\n",
    "    costs = np.array(results[method]['costs'])[successes]\n",
    "    func_evals = np.array(results[method]['func_evals'])[successes]\n",
    "    qp_solves = np.array(results[method]['qp_solves'])[successes]\n",
    "    \n",
    "    print('{0}: \\t& {1:.3f} \\t& {2:.2f} \\t& {3:.3f}  \\\\\\\\'.format(method, success*1.0/len(successes), np.sum(comp_times)/success, np.sum(costs)/success))\n",
    "    "
   ]
  },
  {
   "cell_type": "markdown",
   "metadata": {},
   "source": [
    "### Printing Results Tied to Standard Success"
   ]
  },
  {
   "cell_type": "code",
   "execution_count": null,
   "metadata": {
    "scrolled": true
   },
   "outputs": [],
   "source": [
    "print(' Method \\t| Success Rate \\t| Conv. Time \\t| Traj. Cost \\t| Func. Evals \\t| QP Solves')\n",
    "standard_successes = np.array(results['STD    ']['successes'])\n",
    "\n",
    "for method in method_names:\n",
    "    successes = np.array(results[method]['successes'])[standard_successes]\n",
    "    success = np.count_nonzero(successes)\n",
    "    comp_times = np.array(results[method]['comp_times'])[standard_successes][successes]\n",
    "    costs = np.array(results[method]['costs'])[standard_successes][successes]\n",
    "    func_evals = np.array(results[method]['func_evals'])[standard_successes][successes]\n",
    "    qp_solves = np.array(results[method]['qp_solves'])[standard_successes][successes]\n",
    "    \n",
    "    print('{0}: \\t {1:.3f} \\t {2:.2f} \\t {3:.3f} \\t {4:.3f} \\t {5:.3f}'.format(method, success*1.0/len(successes), np.sum(comp_times)/success, np.sum(costs)/success, 1.0*np.sum(func_evals)/success, 1.0*np.sum(qp_solves)/success ))\n",
    "    "
   ]
  }
 ],
 "metadata": {
  "kernelspec": {
   "display_name": "Python 2",
   "language": "python",
   "name": "python2"
  },
  "language_info": {
   "codemirror_mode": {
    "name": "ipython",
    "version": 2
   },
   "file_extension": ".py",
   "mimetype": "text/x-python",
   "name": "python",
   "nbconvert_exporter": "python",
   "pygments_lexer": "ipython2",
   "version": "2.7.12"
  }
 },
 "nbformat": 4,
 "nbformat_minor": 2
}
